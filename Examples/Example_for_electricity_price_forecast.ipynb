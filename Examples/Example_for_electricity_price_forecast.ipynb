{
  "cells": [
    {
      "cell_type": "markdown",
      "metadata": {
        "id": "9l74GOVEKnak"
      },
      "source": [
        "<!--NOTEBOOK_HEADER-->\n",
        "This notebook contain AI based energy transition examples from [AI energy transition group](https://github.com/ShengrenHou/Energy-Data-and-Model-Platform);\n",
        "content is available [on Github](https://github.com/ShengrenHou/Energy-Data-and-Model-Platform)."
      ]
    },
    {
      "cell_type": "markdown",
      "metadata": {
        "id": "1JFOS4zDJ6Gl"
      },
      "source": [
        "<!--NAVIGATION-->\n",
        "1.1 60 Minutes to Electricity forecasting: An Dutch day ahead market electricity price forecasting example \n",
        "\n",
        "<p><a href=\"https://colab.research.google.com/github/ShengrenHou/Energy-Data-and-Model-Platform/blob/main/Examples/Example_for_forecast_HSR_revise.ipynb\"> <img align=\"left\" src=\"https://colab.research.google.com/assets/colab-badge.svg\" alt=\"Open in Colab\" title=\"Open in Google Colaboratory\"></a><p><a href=\"https://github.com/ShengrenHou/Energy-Data-and-Model-Platform/blob/main/Examples/Example_for_forecast_HSR_revise.ipynb\"> <img align=\"left\" src=\"https://img.shields.io/badge/Github-Download-blue.svg\" alt=\"Download\" title=\"Download Notebook\"></a>"
      ]
    },
    {
      "cell_type": "markdown",
      "metadata": {
        "id": "LYtO0uLGxtSa"
      },
      "source": [
        "### Dutch (Day Ahead Market) DAM electricity price "
      ]
    },
    {
      "cell_type": "markdown",
      "metadata": {},
      "source": [
        "forecasting \n",
        "\n",
        "Electricity price forecasting (EPF) is a branch of energy forecasting which focuses on predicting the spot and forward prices in wholesale electricity markets. Over the last 15 years electricity price forecasts have become a fundamental input to energy companies’ decision-making mechanisms at the corporate level.\n",
        "\n",
        "In this example, two typical machine learning algorithms, i.e. Least absolute shrinkage and selection operator (LASSO) and Deep nerual network (DNN)  are implemented for the DAM electricity price forecasting based on real Dutch market data.\n",
        "\n",
        "We develop this document based on the help of Ties. \n",
        "\n",
        "References:\n",
        "-[Electricity price forecasting: A review of the state-of-the-art with a look into the future](https://www.sciencedirect.com/science/article/pii/S0169207014001083)"
      ]
    },
    {
      "cell_type": "markdown",
      "metadata": {
        "id": "fYERHpg0yTT2"
      },
      "source": [
        "## Environment preparation \n"
      ]
    },
    {
      "cell_type": "markdown",
      "metadata": {
        "id": "FjS46YROh613"
      },
      "source": [
        "Install [scikit-learn package](https://scikit-learn.org/stable/). \n",
        "The implemented two machine learning algorithms are imported from scikit-learn package. \n"
      ]
    },
    {
      "cell_type": "code",
      "execution_count": null,
      "metadata": {
        "colab": {
          "base_uri": "https://localhost:8080/"
        },
        "id": "MGx1LitkWxRi",
        "outputId": "40d12033-6d8d-445b-9886-e72971431aa8"
      },
      "outputs": [],
      "source": [
        "! pip3 install -U scikit-learn"
      ]
    },
    {
      "cell_type": "code",
      "execution_count": null,
      "metadata": {
        "id": "Du-4E4TvyR18"
      },
      "outputs": [],
      "source": [
        "import pandas as pd\n",
        "import numpy as np\n",
        "from pathlib import Path\n",
        "import matplotlib.pyplot as plt\n",
        "import matplotlib.dates as mdates\n",
        "import matplotlib.ticker as ticker\n",
        "from sklearn.linear_model import Lasso, LassoCV\n",
        "from sklearn.neural_network import MLPRegressor\n",
        "from sklearn.model_selection import GridSearchCV, train_test_split\n",
        "from sklearn.preprocessing import StandardScaler\n",
        "from tqdm.notebook import tqdm\n",
        "import pickle"
      ]
    },
    {
      "cell_type": "markdown",
      "metadata": {
        "id": "Yc4z7MDTx91N"
      },
      "source": [
        "## Data Prepartion \n"
      ]
    },
    {
      "cell_type": "markdown",
      "metadata": {
        "id": "-L3Wx7jeyEVr"
      },
      "source": [
        "### Data download and read "
      ]
    },
    {
      "cell_type": "markdown",
      "metadata": {
        "id": "yejJpc6dpcED"
      },
      "source": [
        "Download data from our [github](https://github.com/ShengrenHou/Energy-Data-and-Model-Platform) link"
      ]
    },
    {
      "cell_type": "code",
      "execution_count": null,
      "metadata": {
        "colab": {
          "base_uri": "https://localhost:8080/"
        },
        "id": "RjPXgzbugFYA",
        "outputId": "a8fd133d-f8c2-4c3a-c3f0-6a3e16ab1cbb"
      },
      "outputs": [],
      "source": [
        "!git clone https://github.com/ShengrenHou/Energy-Data-and-Model-Platform"
      ]
    },
    {
      "cell_type": "markdown",
      "metadata": {
        "id": "-UPVsIoBpt-i"
      },
      "source": [
        "Read csv data as pandas dataframe and use the first column as the index (time index)"
      ]
    },
    {
      "cell_type": "code",
      "execution_count": null,
      "metadata": {
        "colab": {
          "base_uri": "https://localhost:8080/",
          "height": 417
        },
        "id": "ra-R4rM6ioHR",
        "outputId": "3794f78b-b57f-4d4f-8c11-12135b1084a7"
      },
      "outputs": [],
      "source": [
        "data=pd.read_csv('./Energy-Data-and-Model-Platform/Data/NL.csv',index_col=0,parse_dates=True,)\n",
        "data"
      ]
    },
    {
      "cell_type": "markdown",
      "metadata": {
        "id": "3g-7-rtnp7br"
      },
      "source": [
        "Tansfer data index as datetime based on pandas fuunction."
      ]
    },
    {
      "cell_type": "code",
      "execution_count": null,
      "metadata": {
        "colab": {
          "base_uri": "https://localhost:8080/"
        },
        "id": "ZbpVU7JDmq01",
        "outputId": "58802953-0fd2-4d40-879d-fa100de78b34"
      },
      "outputs": [],
      "source": [
        "data.index=pd.to_datetime(data.index,yearfirst=True,utc=True,format='%Y-%m-%d %H:%M:%S')\n",
        "print(data.index)\n",
        "print(type(data.index))\n",
        "print(data.index.hour)\n",
        "print(data.index.year)\n"
      ]
    },
    {
      "cell_type": "markdown",
      "metadata": {
        "id": "v5sB8p0Aym4O"
      },
      "source": [
        "Rearrange data, so we have daily indices with hourly values in the columns \n"
      ]
    },
    {
      "cell_type": "code",
      "execution_count": null,
      "metadata": {
        "id": "wjJN6o6YyzfM"
      },
      "outputs": [],
      "source": [
        "grouped_prices = data.loc[:, ['Price']].groupby(data.index.hour)\n",
        "daily_prices = pd.DataFrame(index=data.loc[data.index.hour==0].index, columns=range(24), data={h: grouped_prices.get_group(h).values.flatten() for h in range(24)})"
      ]
    },
    {
      "cell_type": "code",
      "execution_count": null,
      "metadata": {
        "id": "IWQJy8oEy0Zn"
      },
      "outputs": [],
      "source": [
        "grouped_load = data.loc[:, ['Load']].groupby(data.index.hour)\n",
        "daily_load = pd.DataFrame(index=data.loc[data.index.hour==0].index, columns=range(24), data={h: grouped_load.get_group(h).values.flatten() for h in range(24)})"
      ]
    },
    {
      "cell_type": "markdown",
      "metadata": {
        "id": "0Gzxf6aYy88L"
      },
      "source": [
        "Make a feature dataframe with lagged loads and prices. We include the data of the last three days, and the same day last week (d-1, d-2, d-3, d-7)\n"
      ]
    },
    {
      "cell_type": "code",
      "execution_count": null,
      "metadata": {
        "id": "kJyREM6szVdn"
      },
      "outputs": [],
      "source": [
        "lags = [1, 2, 3, 7]\n",
        "\n",
        "X = pd.concat([daily_prices.shift(l) for l in lags] + [daily_load.shift(l) for l in lags], axis=1).astype(float)\n",
        "X.columns = [f'P_{h}_{l}' for l in lags for h in range(24)] + [f'L_{h}_{l}' for l in lags for h in range(24)]"
      ]
    },
    {
      "cell_type": "markdown",
      "metadata": {
        "id": "hVEQMbh_zN01"
      },
      "source": [
        "Now add the day of the week as a feature. We make a difference for the LASSO (linear model) and the Neural Network (non-linear model). LASSO needs one-hot encoding for these features, while the neural network can deal with a single weekday column having integers representing days."
      ]
    },
    {
      "cell_type": "code",
      "execution_count": null,
      "metadata": {
        "id": "5TgnIi7nzbhy"
      },
      "outputs": [],
      "source": [
        "X_lasso = X.copy()\n",
        "for d in range(7):\n",
        "    X_lasso.loc[X_lasso.index.weekday==d, f'D_{d}']=1\n",
        "    X_lasso.loc[X_lasso.index.weekday!=d, f'D_{d}']=0"
      ]
    },
    {
      "cell_type": "code",
      "execution_count": null,
      "metadata": {
        "id": "hfW2vuzZz6XX"
      },
      "outputs": [],
      "source": [
        "X_mlp = X.copy()\n",
        "X_mlp.loc[:, 'DOW'] = X_mlp.index.weekday"
      ]
    },
    {
      "cell_type": "code",
      "execution_count": null,
      "metadata": {
        "id": "Zrt8g3vVz8dn"
      },
      "outputs": [],
      "source": [
        "X_lasso.dropna(inplace=True)\n",
        "X_mlp.dropna(inplace=True)\n",
        "\n",
        "y = daily_prices.loc[(daily_prices.index.isin(X_lasso.index)) & (daily_prices.index.isin(X_mlp.index))]"
      ]
    },
    {
      "cell_type": "markdown",
      "metadata": {
        "id": "wGp3HMViz_9W"
      },
      "source": [
        "Split the data in train-test sets. We use 2019 as test set and the rest as training set. For the lasso we use a different model per hour, and use a single train-test split where we decide the lasso-coefficient on the training data only."
      ]
    },
    {
      "cell_type": "code",
      "execution_count": null,
      "metadata": {
        "id": "k_JzM23t0HUt"
      },
      "outputs": [],
      "source": [
        "def lasso_cols(h):\n",
        "    return [f'P_{h}_{l}' for l in lags] + [f'L_{h}_{l}' for l in lags] + [f'D_{d}' for d in range(7)]\n",
        "\n",
        "test_years = [2019]#[2018, 2019]\n",
        "\n",
        "Xdict_lasso = {\n",
        "    h: {\n",
        "        'train': X_lasso.loc[~(X_lasso.index.year.isin(test_years)), lasso_cols(h)],\n",
        "        'test': X_lasso.loc[(X_lasso.index.year.isin(test_years)), lasso_cols(h)] \n",
        "    } for h in range(24)\n",
        "}\n",
        "\n",
        "ydict_lasso = {\n",
        "    h: {\n",
        "        'train': y.loc[~(y.index.year.isin(test_years)), h],\n",
        "        'test': y.loc[(y.index.year.isin(test_years)), h]\n",
        "    } for h in range(24)\n",
        "}\n",
        "\n",
        "Xdict_mlp = {\n",
        "    'train': X_mlp.loc[~(X_mlp.index.year.isin(test_years))],\n",
        "    'test': X_mlp.loc[(X_mlp.index.year.isin(test_years))]\n",
        "}\n",
        "\n",
        "ydict_mlp = {\n",
        "    'train': y.loc[~(y.index.year.isin(test_years))],\n",
        "    'test': y.loc[(y.index.year.isin(test_years))]\n",
        "}"
      ]
    },
    {
      "cell_type": "markdown",
      "metadata": {
        "id": "pyCHTTL70J5i"
      },
      "source": [
        "Fit a Z-score standard scaler to the feature training set."
      ]
    },
    {
      "cell_type": "code",
      "execution_count": null,
      "metadata": {
        "id": "Z8jvG40P0I7v"
      },
      "outputs": [],
      "source": [
        "scaler_lasso = {h: StandardScaler().fit(Xdict_lasso[h]['train']) for h in range(24)}\n",
        "scaler_mlp = StandardScaler().fit(Xdict_mlp['train'])"
      ]
    },
    {
      "cell_type": "markdown",
      "metadata": {
        "id": "YxtvTMQM0knh"
      },
      "source": [
        "## Train and evaluate by LASSO\n",
        "\n",
        "[Least absolute shrinkage and selection operator (LASSO)](https://www.jstor.org/stable/2346178#metadata_info_tab_contents), is a regression analysis method that performs both variable selection and regularization in order to enhance the prediction accuracy and interpretability of the resulting statistical model.\n",
        "\n",
        "Lasso was originally formulated for linear regression models. This simple case reveals a substantial amount about the estimator. These include its relationship to ridge regression and best subset selection and the connections between lasso coefficient estimates and so-called soft thresholding. It also reveals that (like standard linear regression) the coefficient estimates do not need to be unique if covariates are collinear.\n",
        "\n",
        "In this part, LASSO is implemented to train the price forecast model."
      ]
    },
    {
      "cell_type": "markdown",
      "metadata": {
        "id": "Xv0pstSg0ySQ"
      },
      "source": [
        "### Optimizing the LASSo "
      ]
    },
    {
      "cell_type": "markdown",
      "metadata": {
        "id": "8UwJqPd706uR"
      },
      "source": [
        "Make a handy iterable for the cross-validation, this way we can split the sets by year instead of random."
      ]
    },
    {
      "cell_type": "code",
      "execution_count": null,
      "metadata": {
        "id": "tysuzPm-0xCY"
      },
      "outputs": [],
      "source": [
        "y_t = ydict_lasso[0]['train']\n",
        "ind_df = pd.DataFrame(index=y_t.index, data={'idx': range(len(y_t.index))})\n",
        "cv = [ (ind_df.loc[ind_df.index.year!=year, 'idx'].values, ind_df.loc[ind_df.index.year==year, 'idx'].values) for year in range(2015, 2019)]"
      ]
    },
    {
      "cell_type": "markdown",
      "metadata": {
        "id": "9WTZBrZ-1CoB"
      },
      "source": [
        "For the LASSO we train a single model per hour of the day. So we need to optimise 24 penalty coefficients."
      ]
    },
    {
      "cell_type": "code",
      "execution_count": null,
      "metadata": {
        "colab": {
          "base_uri": "https://localhost:8080/",
          "height": 49,
          "referenced_widgets": [
            "0fb18d9f503d463f84837eb694fb2457",
            "41b49a9eb142437f8fd5db3646d834e3",
            "d6592afb1a1f4dc1884f4358cd43572a",
            "5c15d5b01d7f40bbb3ec80217e136d9e",
            "d3715cc25c384ae58bc5fba1627810e6",
            "d14e0baf75a741d595e84095f2b66ce1",
            "7950a0ac9c064f9e961ee97fe343a3e2",
            "1e8868239a184a60810ef2ec252c5294",
            "34848c87a535432da4aa9d38a270b043",
            "30d8faf4327245b5ab6907b2dda62f3a",
            "be72d070cac74a9bae285eb69b36c62b"
          ]
        },
        "id": "qHT-yU_z1SOa",
        "outputId": "373f6dfe-07ca-4f48-ffce-843eb992cb60"
      },
      "outputs": [],
      "source": [
        "LassoCV_dict={\n",
        "    h: LassoCV(cv=cv).fit(X=scaler_lasso[h].transform(Xdict_lasso[h]['train']), y=ydict_lasso[h]['train'].values) for h in tqdm(range(24))\n",
        "}"
      ]
    },
    {
      "cell_type": "markdown",
      "metadata": {
        "id": "b7r8W5-i1Way"
      },
      "source": [
        "We extract the optimised penalty coefficients."
      ]
    },
    {
      "cell_type": "code",
      "execution_count": null,
      "metadata": {
        "id": "XyBu2xxa1Yw6"
      },
      "outputs": [],
      "source": [
        "alphas = {\n",
        "    h: LassoCV_dict[h].alpha_ for h in range(24)\n",
        "}"
      ]
    },
    {
      "cell_type": "markdown",
      "metadata": {
        "id": "_-l2-Swy1cg8"
      },
      "source": [
        "Now we refit the models on the whole training data with the optimised penalty coefficients."
      ]
    },
    {
      "cell_type": "code",
      "execution_count": null,
      "metadata": {
        "colab": {
          "base_uri": "https://localhost:8080/",
          "height": 49,
          "referenced_widgets": [
            "5681483f3f6848738cb5bc0b50543e4a",
            "cde58a79cf6743f7a26e25137a14a9f1",
            "92b502573b484e39b9be4ddc8c7ebce4",
            "1e86f90b581a4e99ab4f4eed1a3ccff3",
            "9ed404cf391f43bbbe4d13b2856bf926",
            "2fe5ce4e7b6148b88357cf9621de1afe",
            "728437530b4840bea8d24ba43e499a53",
            "a9bd8bef0511433bace0b3fa9474ebe1",
            "3373b4d6fcb6485497e8c79c99386ac6",
            "2fdd5a30f1524b0da2de6331446f3520",
            "4ecf8faa6c7a48baa6cd663fded51c91"
          ]
        },
        "id": "1QNz_v7y1a-a",
        "outputId": "3585a69e-f0fc-45b9-ef53-936c838988fe"
      },
      "outputs": [],
      "source": [
        "lasso_dict = {\n",
        "    h: Lasso(alpha=alphas[h]).fit(X=scaler_lasso[h].transform(Xdict_lasso[h]['train']), y=ydict_lasso[h]['train'].values) for h in tqdm(range(24))\n",
        "}"
      ]
    },
    {
      "cell_type": "markdown",
      "metadata": {
        "id": "Z6-FU84Z1lor"
      },
      "source": [
        "### Forecasting with LASSO \n"
      ]
    },
    {
      "cell_type": "code",
      "execution_count": null,
      "metadata": {
        "id": "t6gQHtwZ1ubT"
      },
      "outputs": [],
      "source": [
        "lasso_fc = pd.DataFrame(index=ydict_mlp['test'].index, data={h: lasso_dict[h].predict(scaler_lasso[h].transform(Xdict_lasso[h]['test'])) for h in range(24)}).round(2)"
      ]
    },
    {
      "cell_type": "code",
      "execution_count": null,
      "metadata": {
        "id": "SmW62QIT1uOT"
      },
      "outputs": [],
      "source": [
        "locator = mdates.AutoDateLocator(minticks=3, maxticks=7)\n",
        "formatter = mdates.ConciseDateFormatter(locator)\n",
        "\n",
        "def plot_forecast(date, fcdf, ax=None):\n",
        "    flag=False\n",
        "    \n",
        "    if ax is None:\n",
        "        fig, ax = plt.subplots(figsize=(5,2))\n",
        "        flag=True\n",
        "        \n",
        "    ax.xaxis.set_major_locator(locator)\n",
        "    ax.xaxis.set_major_formatter(formatter)\n",
        "    \n",
        "    \n",
        "    plotind=pd.date_range(date, freq='1H', periods=24)\n",
        "    \n",
        "    ax.step(plotind, daily_prices.loc[date, :].values, color='k', label='DAM price')\n",
        "    ax.step(plotind, fcdf.loc[date, :].values, color='C0', label='Forecast')\n",
        "    \n",
        "    ax.set_xlim(plotind[0], plotind[-1])\n",
        "\n",
        "    ax.set_ylabel('Price [$€ MWh^{-1}$]')\n",
        "    \n",
        "    \n",
        "    if flag:\n",
        "        ax.legend(loc='best')\n",
        "        "
      ]
    },
    {
      "cell_type": "code",
      "execution_count": null,
      "metadata": {
        "colab": {
          "base_uri": "https://localhost:8080/",
          "height": 170
        },
        "id": "sSDuqNP31xVF",
        "outputId": "acc5d4c7-031b-45ba-e30c-61d4a12457be"
      },
      "outputs": [],
      "source": [
        "day_nr=30\n",
        "plot_forecast(lasso_fc.index[day_nr], lasso_fc)"
      ]
    },
    {
      "cell_type": "markdown",
      "metadata": {
        "id": "D34krPtG12pt"
      },
      "source": [
        "## Training and forecasting for the DNNs \n",
        "\n",
        "A DNN is based on a collection of connected units or nodes called artificial neurons, which loosely model the neurons in a biological brain. Each connection, like the synapses in a biological brain, can transmit a signal to other neurons. DNNs have been widely used on load forecasting problems.\n",
        "\n",
        "We create the network with two hidden layers, first layer with 100 nodes and the second with 50 nodes. The nodes use the ReLU activation function, and the Adam optimiser is applied. We also apply early stopping, so we keep track of the loss on a validation set to know when to stop training.\n",
        "\n",
        "Reference: \n",
        "- [Wiki](https://en.wikipedia.org/wiki/Energy_forecasting)\n"
      ]
    },
    {
      "cell_type": "code",
      "execution_count": null,
      "metadata": {
        "id": "B9DvM-G81_3G"
      },
      "outputs": [],
      "source": [
        "MLP = MLPRegressor(\n",
        "    hidden_layer_sizes=(100,50),\n",
        "    activation='relu',\n",
        "    solver='adam',\n",
        "    validation_fraction=0.2,\n",
        "    early_stopping=True,\n",
        "    n_iter_no_change=10,\n",
        "    max_iter=1000\n",
        ").fit(\n",
        "    X=scaler_mlp.transform(Xdict_mlp['train']),\n",
        "    y=ydict_mlp['train'].values\n",
        ")"
      ]
    },
    {
      "cell_type": "code",
      "execution_count": null,
      "metadata": {
        "id": "tHZaQOXe2ERm"
      },
      "outputs": [],
      "source": [
        "mlp_fc = pd.DataFrame(index=ydict_mlp['test'].index, columns=range(24))\n",
        "mlp_fc.loc[:,:] = MLP.predict(scaler_mlp.transform(Xdict_mlp['test']))"
      ]
    },
    {
      "cell_type": "code",
      "execution_count": null,
      "metadata": {
        "colab": {
          "base_uri": "https://localhost:8080/",
          "height": 170
        },
        "id": "mg89-tEj2FYX",
        "outputId": "24076ff5-16d2-4196-d319-749fe8b0caf8"
      },
      "outputs": [],
      "source": [
        "day_nr=30\n",
        "plot_forecast(mlp_fc.index[day_nr], mlp_fc)"
      ]
    },
    {
      "cell_type": "markdown",
      "metadata": {
        "id": "4DnYP5Ct2bl-"
      },
      "source": [
        "## Evaluate the trained two models \n",
        "\n",
        "We evaluate the performance of trained two algorithms by root mean square error (RMSE), mean eroor (ME) and absolute mean error (MAE). \n",
        "\n",
        "Reference: \n",
        "- [data science paper](https://towardsdatascience.com/comparing-robustness-of-mae-mse-and-rmse-6d69da870828)"
      ]
    },
    {
      "cell_type": "code",
      "execution_count": null,
      "metadata": {
        "id": "X4tizMMh2hCa"
      },
      "outputs": [],
      "source": [
        "def MAE(fcdf):\n",
        "    return (fcdf-ydict_mlp['test']).abs().mean().mean()\n",
        "\n",
        "def ME(fcdf):\n",
        "    return (fcdf-ydict_mlp['test']).mean().mean()\n",
        "\n",
        "def RMSE(fcdf):\n",
        "    return np.sqrt(((fcdf-ydict_mlp['test'])**2).mean().mean())"
      ]
    },
    {
      "cell_type": "code",
      "execution_count": null,
      "metadata": {
        "colab": {
          "base_uri": "https://localhost:8080/",
          "height": 143
        },
        "id": "00yj2zqu2iL5",
        "outputId": "8a124db8-52bf-449f-bb64-349b4feaa01f"
      },
      "outputs": [],
      "source": [
        "stats = pd.DataFrame(index=['MAE', 'ME', 'RMSE'], columns=['LASSO', 'MLP'], dtype=float)\n",
        "stats.loc['MAE', :] = [MAE(lasso_fc), MAE(mlp_fc)]\n",
        "stats.loc['ME', :] = [ME(lasso_fc), ME(mlp_fc)]\n",
        "stats.loc['RMSE', :] = [RMSE(lasso_fc), RMSE(mlp_fc)]\n",
        "\n",
        "stats.round(2)"
      ]
    }
  ],
  "metadata": {
    "colab": {
      "collapsed_sections": [
        "v5sB8p0Aym4O",
        "0Gzxf6aYy88L",
        "wGp3HMViz_9W",
        "pyCHTTL70J5i",
        "YxtvTMQM0knh",
        "Xv0pstSg0ySQ",
        "Z6-FU84Z1lor",
        "D34krPtG12pt"
      ],
      "provenance": []
    },
    "kernelspec": {
      "display_name": "Python 3",
      "language": "python",
      "name": "python3"
    },
    "language_info": {
      "codemirror_mode": {
        "name": "ipython",
        "version": 3
      },
      "file_extension": ".py",
      "mimetype": "text/x-python",
      "name": "python",
      "nbconvert_exporter": "python",
      "pygments_lexer": "ipython3",
      "version": "3.8.6"
    },
    "widgets": {
      "application/vnd.jupyter.widget-state+json": {
        "0fb18d9f503d463f84837eb694fb2457": {
          "model_module": "@jupyter-widgets/controls",
          "model_module_version": "1.5.0",
          "model_name": "HBoxModel",
          "state": {
            "_dom_classes": [],
            "_model_module": "@jupyter-widgets/controls",
            "_model_module_version": "1.5.0",
            "_model_name": "HBoxModel",
            "_view_count": null,
            "_view_module": "@jupyter-widgets/controls",
            "_view_module_version": "1.5.0",
            "_view_name": "HBoxView",
            "box_style": "",
            "children": [
              "IPY_MODEL_41b49a9eb142437f8fd5db3646d834e3",
              "IPY_MODEL_d6592afb1a1f4dc1884f4358cd43572a",
              "IPY_MODEL_5c15d5b01d7f40bbb3ec80217e136d9e"
            ],
            "layout": "IPY_MODEL_d3715cc25c384ae58bc5fba1627810e6"
          }
        },
        "1e86f90b581a4e99ab4f4eed1a3ccff3": {
          "model_module": "@jupyter-widgets/controls",
          "model_module_version": "1.5.0",
          "model_name": "HTMLModel",
          "state": {
            "_dom_classes": [],
            "_model_module": "@jupyter-widgets/controls",
            "_model_module_version": "1.5.0",
            "_model_name": "HTMLModel",
            "_view_count": null,
            "_view_module": "@jupyter-widgets/controls",
            "_view_module_version": "1.5.0",
            "_view_name": "HTMLView",
            "description": "",
            "description_tooltip": null,
            "layout": "IPY_MODEL_2fdd5a30f1524b0da2de6331446f3520",
            "placeholder": "​",
            "style": "IPY_MODEL_4ecf8faa6c7a48baa6cd663fded51c91",
            "value": " 24/24 [00:00&lt;00:00, 113.63it/s]"
          }
        },
        "1e8868239a184a60810ef2ec252c5294": {
          "model_module": "@jupyter-widgets/base",
          "model_module_version": "1.2.0",
          "model_name": "LayoutModel",
          "state": {
            "_model_module": "@jupyter-widgets/base",
            "_model_module_version": "1.2.0",
            "_model_name": "LayoutModel",
            "_view_count": null,
            "_view_module": "@jupyter-widgets/base",
            "_view_module_version": "1.2.0",
            "_view_name": "LayoutView",
            "align_content": null,
            "align_items": null,
            "align_self": null,
            "border": null,
            "bottom": null,
            "display": null,
            "flex": null,
            "flex_flow": null,
            "grid_area": null,
            "grid_auto_columns": null,
            "grid_auto_flow": null,
            "grid_auto_rows": null,
            "grid_column": null,
            "grid_gap": null,
            "grid_row": null,
            "grid_template_areas": null,
            "grid_template_columns": null,
            "grid_template_rows": null,
            "height": null,
            "justify_content": null,
            "justify_items": null,
            "left": null,
            "margin": null,
            "max_height": null,
            "max_width": null,
            "min_height": null,
            "min_width": null,
            "object_fit": null,
            "object_position": null,
            "order": null,
            "overflow": null,
            "overflow_x": null,
            "overflow_y": null,
            "padding": null,
            "right": null,
            "top": null,
            "visibility": null,
            "width": null
          }
        },
        "2fdd5a30f1524b0da2de6331446f3520": {
          "model_module": "@jupyter-widgets/base",
          "model_module_version": "1.2.0",
          "model_name": "LayoutModel",
          "state": {
            "_model_module": "@jupyter-widgets/base",
            "_model_module_version": "1.2.0",
            "_model_name": "LayoutModel",
            "_view_count": null,
            "_view_module": "@jupyter-widgets/base",
            "_view_module_version": "1.2.0",
            "_view_name": "LayoutView",
            "align_content": null,
            "align_items": null,
            "align_self": null,
            "border": null,
            "bottom": null,
            "display": null,
            "flex": null,
            "flex_flow": null,
            "grid_area": null,
            "grid_auto_columns": null,
            "grid_auto_flow": null,
            "grid_auto_rows": null,
            "grid_column": null,
            "grid_gap": null,
            "grid_row": null,
            "grid_template_areas": null,
            "grid_template_columns": null,
            "grid_template_rows": null,
            "height": null,
            "justify_content": null,
            "justify_items": null,
            "left": null,
            "margin": null,
            "max_height": null,
            "max_width": null,
            "min_height": null,
            "min_width": null,
            "object_fit": null,
            "object_position": null,
            "order": null,
            "overflow": null,
            "overflow_x": null,
            "overflow_y": null,
            "padding": null,
            "right": null,
            "top": null,
            "visibility": null,
            "width": null
          }
        },
        "2fe5ce4e7b6148b88357cf9621de1afe": {
          "model_module": "@jupyter-widgets/base",
          "model_module_version": "1.2.0",
          "model_name": "LayoutModel",
          "state": {
            "_model_module": "@jupyter-widgets/base",
            "_model_module_version": "1.2.0",
            "_model_name": "LayoutModel",
            "_view_count": null,
            "_view_module": "@jupyter-widgets/base",
            "_view_module_version": "1.2.0",
            "_view_name": "LayoutView",
            "align_content": null,
            "align_items": null,
            "align_self": null,
            "border": null,
            "bottom": null,
            "display": null,
            "flex": null,
            "flex_flow": null,
            "grid_area": null,
            "grid_auto_columns": null,
            "grid_auto_flow": null,
            "grid_auto_rows": null,
            "grid_column": null,
            "grid_gap": null,
            "grid_row": null,
            "grid_template_areas": null,
            "grid_template_columns": null,
            "grid_template_rows": null,
            "height": null,
            "justify_content": null,
            "justify_items": null,
            "left": null,
            "margin": null,
            "max_height": null,
            "max_width": null,
            "min_height": null,
            "min_width": null,
            "object_fit": null,
            "object_position": null,
            "order": null,
            "overflow": null,
            "overflow_x": null,
            "overflow_y": null,
            "padding": null,
            "right": null,
            "top": null,
            "visibility": null,
            "width": null
          }
        },
        "30d8faf4327245b5ab6907b2dda62f3a": {
          "model_module": "@jupyter-widgets/base",
          "model_module_version": "1.2.0",
          "model_name": "LayoutModel",
          "state": {
            "_model_module": "@jupyter-widgets/base",
            "_model_module_version": "1.2.0",
            "_model_name": "LayoutModel",
            "_view_count": null,
            "_view_module": "@jupyter-widgets/base",
            "_view_module_version": "1.2.0",
            "_view_name": "LayoutView",
            "align_content": null,
            "align_items": null,
            "align_self": null,
            "border": null,
            "bottom": null,
            "display": null,
            "flex": null,
            "flex_flow": null,
            "grid_area": null,
            "grid_auto_columns": null,
            "grid_auto_flow": null,
            "grid_auto_rows": null,
            "grid_column": null,
            "grid_gap": null,
            "grid_row": null,
            "grid_template_areas": null,
            "grid_template_columns": null,
            "grid_template_rows": null,
            "height": null,
            "justify_content": null,
            "justify_items": null,
            "left": null,
            "margin": null,
            "max_height": null,
            "max_width": null,
            "min_height": null,
            "min_width": null,
            "object_fit": null,
            "object_position": null,
            "order": null,
            "overflow": null,
            "overflow_x": null,
            "overflow_y": null,
            "padding": null,
            "right": null,
            "top": null,
            "visibility": null,
            "width": null
          }
        },
        "3373b4d6fcb6485497e8c79c99386ac6": {
          "model_module": "@jupyter-widgets/controls",
          "model_module_version": "1.5.0",
          "model_name": "ProgressStyleModel",
          "state": {
            "_model_module": "@jupyter-widgets/controls",
            "_model_module_version": "1.5.0",
            "_model_name": "ProgressStyleModel",
            "_view_count": null,
            "_view_module": "@jupyter-widgets/base",
            "_view_module_version": "1.2.0",
            "_view_name": "StyleView",
            "bar_color": null,
            "description_width": ""
          }
        },
        "34848c87a535432da4aa9d38a270b043": {
          "model_module": "@jupyter-widgets/controls",
          "model_module_version": "1.5.0",
          "model_name": "ProgressStyleModel",
          "state": {
            "_model_module": "@jupyter-widgets/controls",
            "_model_module_version": "1.5.0",
            "_model_name": "ProgressStyleModel",
            "_view_count": null,
            "_view_module": "@jupyter-widgets/base",
            "_view_module_version": "1.2.0",
            "_view_name": "StyleView",
            "bar_color": null,
            "description_width": ""
          }
        },
        "41b49a9eb142437f8fd5db3646d834e3": {
          "model_module": "@jupyter-widgets/controls",
          "model_module_version": "1.5.0",
          "model_name": "HTMLModel",
          "state": {
            "_dom_classes": [],
            "_model_module": "@jupyter-widgets/controls",
            "_model_module_version": "1.5.0",
            "_model_name": "HTMLModel",
            "_view_count": null,
            "_view_module": "@jupyter-widgets/controls",
            "_view_module_version": "1.5.0",
            "_view_name": "HTMLView",
            "description": "",
            "description_tooltip": null,
            "layout": "IPY_MODEL_d14e0baf75a741d595e84095f2b66ce1",
            "placeholder": "​",
            "style": "IPY_MODEL_7950a0ac9c064f9e961ee97fe343a3e2",
            "value": "100%"
          }
        },
        "4ecf8faa6c7a48baa6cd663fded51c91": {
          "model_module": "@jupyter-widgets/controls",
          "model_module_version": "1.5.0",
          "model_name": "DescriptionStyleModel",
          "state": {
            "_model_module": "@jupyter-widgets/controls",
            "_model_module_version": "1.5.0",
            "_model_name": "DescriptionStyleModel",
            "_view_count": null,
            "_view_module": "@jupyter-widgets/base",
            "_view_module_version": "1.2.0",
            "_view_name": "StyleView",
            "description_width": ""
          }
        },
        "5681483f3f6848738cb5bc0b50543e4a": {
          "model_module": "@jupyter-widgets/controls",
          "model_module_version": "1.5.0",
          "model_name": "HBoxModel",
          "state": {
            "_dom_classes": [],
            "_model_module": "@jupyter-widgets/controls",
            "_model_module_version": "1.5.0",
            "_model_name": "HBoxModel",
            "_view_count": null,
            "_view_module": "@jupyter-widgets/controls",
            "_view_module_version": "1.5.0",
            "_view_name": "HBoxView",
            "box_style": "",
            "children": [
              "IPY_MODEL_cde58a79cf6743f7a26e25137a14a9f1",
              "IPY_MODEL_92b502573b484e39b9be4ddc8c7ebce4",
              "IPY_MODEL_1e86f90b581a4e99ab4f4eed1a3ccff3"
            ],
            "layout": "IPY_MODEL_9ed404cf391f43bbbe4d13b2856bf926"
          }
        },
        "5c15d5b01d7f40bbb3ec80217e136d9e": {
          "model_module": "@jupyter-widgets/controls",
          "model_module_version": "1.5.0",
          "model_name": "HTMLModel",
          "state": {
            "_dom_classes": [],
            "_model_module": "@jupyter-widgets/controls",
            "_model_module_version": "1.5.0",
            "_model_name": "HTMLModel",
            "_view_count": null,
            "_view_module": "@jupyter-widgets/controls",
            "_view_module_version": "1.5.0",
            "_view_name": "HTMLView",
            "description": "",
            "description_tooltip": null,
            "layout": "IPY_MODEL_30d8faf4327245b5ab6907b2dda62f3a",
            "placeholder": "​",
            "style": "IPY_MODEL_be72d070cac74a9bae285eb69b36c62b",
            "value": " 24/24 [00:01&lt;00:00, 17.08it/s]"
          }
        },
        "728437530b4840bea8d24ba43e499a53": {
          "model_module": "@jupyter-widgets/controls",
          "model_module_version": "1.5.0",
          "model_name": "DescriptionStyleModel",
          "state": {
            "_model_module": "@jupyter-widgets/controls",
            "_model_module_version": "1.5.0",
            "_model_name": "DescriptionStyleModel",
            "_view_count": null,
            "_view_module": "@jupyter-widgets/base",
            "_view_module_version": "1.2.0",
            "_view_name": "StyleView",
            "description_width": ""
          }
        },
        "7950a0ac9c064f9e961ee97fe343a3e2": {
          "model_module": "@jupyter-widgets/controls",
          "model_module_version": "1.5.0",
          "model_name": "DescriptionStyleModel",
          "state": {
            "_model_module": "@jupyter-widgets/controls",
            "_model_module_version": "1.5.0",
            "_model_name": "DescriptionStyleModel",
            "_view_count": null,
            "_view_module": "@jupyter-widgets/base",
            "_view_module_version": "1.2.0",
            "_view_name": "StyleView",
            "description_width": ""
          }
        },
        "92b502573b484e39b9be4ddc8c7ebce4": {
          "model_module": "@jupyter-widgets/controls",
          "model_module_version": "1.5.0",
          "model_name": "FloatProgressModel",
          "state": {
            "_dom_classes": [],
            "_model_module": "@jupyter-widgets/controls",
            "_model_module_version": "1.5.0",
            "_model_name": "FloatProgressModel",
            "_view_count": null,
            "_view_module": "@jupyter-widgets/controls",
            "_view_module_version": "1.5.0",
            "_view_name": "ProgressView",
            "bar_style": "success",
            "description": "",
            "description_tooltip": null,
            "layout": "IPY_MODEL_a9bd8bef0511433bace0b3fa9474ebe1",
            "max": 24,
            "min": 0,
            "orientation": "horizontal",
            "style": "IPY_MODEL_3373b4d6fcb6485497e8c79c99386ac6",
            "value": 24
          }
        },
        "9ed404cf391f43bbbe4d13b2856bf926": {
          "model_module": "@jupyter-widgets/base",
          "model_module_version": "1.2.0",
          "model_name": "LayoutModel",
          "state": {
            "_model_module": "@jupyter-widgets/base",
            "_model_module_version": "1.2.0",
            "_model_name": "LayoutModel",
            "_view_count": null,
            "_view_module": "@jupyter-widgets/base",
            "_view_module_version": "1.2.0",
            "_view_name": "LayoutView",
            "align_content": null,
            "align_items": null,
            "align_self": null,
            "border": null,
            "bottom": null,
            "display": null,
            "flex": null,
            "flex_flow": null,
            "grid_area": null,
            "grid_auto_columns": null,
            "grid_auto_flow": null,
            "grid_auto_rows": null,
            "grid_column": null,
            "grid_gap": null,
            "grid_row": null,
            "grid_template_areas": null,
            "grid_template_columns": null,
            "grid_template_rows": null,
            "height": null,
            "justify_content": null,
            "justify_items": null,
            "left": null,
            "margin": null,
            "max_height": null,
            "max_width": null,
            "min_height": null,
            "min_width": null,
            "object_fit": null,
            "object_position": null,
            "order": null,
            "overflow": null,
            "overflow_x": null,
            "overflow_y": null,
            "padding": null,
            "right": null,
            "top": null,
            "visibility": null,
            "width": null
          }
        },
        "a9bd8bef0511433bace0b3fa9474ebe1": {
          "model_module": "@jupyter-widgets/base",
          "model_module_version": "1.2.0",
          "model_name": "LayoutModel",
          "state": {
            "_model_module": "@jupyter-widgets/base",
            "_model_module_version": "1.2.0",
            "_model_name": "LayoutModel",
            "_view_count": null,
            "_view_module": "@jupyter-widgets/base",
            "_view_module_version": "1.2.0",
            "_view_name": "LayoutView",
            "align_content": null,
            "align_items": null,
            "align_self": null,
            "border": null,
            "bottom": null,
            "display": null,
            "flex": null,
            "flex_flow": null,
            "grid_area": null,
            "grid_auto_columns": null,
            "grid_auto_flow": null,
            "grid_auto_rows": null,
            "grid_column": null,
            "grid_gap": null,
            "grid_row": null,
            "grid_template_areas": null,
            "grid_template_columns": null,
            "grid_template_rows": null,
            "height": null,
            "justify_content": null,
            "justify_items": null,
            "left": null,
            "margin": null,
            "max_height": null,
            "max_width": null,
            "min_height": null,
            "min_width": null,
            "object_fit": null,
            "object_position": null,
            "order": null,
            "overflow": null,
            "overflow_x": null,
            "overflow_y": null,
            "padding": null,
            "right": null,
            "top": null,
            "visibility": null,
            "width": null
          }
        },
        "be72d070cac74a9bae285eb69b36c62b": {
          "model_module": "@jupyter-widgets/controls",
          "model_module_version": "1.5.0",
          "model_name": "DescriptionStyleModel",
          "state": {
            "_model_module": "@jupyter-widgets/controls",
            "_model_module_version": "1.5.0",
            "_model_name": "DescriptionStyleModel",
            "_view_count": null,
            "_view_module": "@jupyter-widgets/base",
            "_view_module_version": "1.2.0",
            "_view_name": "StyleView",
            "description_width": ""
          }
        },
        "cde58a79cf6743f7a26e25137a14a9f1": {
          "model_module": "@jupyter-widgets/controls",
          "model_module_version": "1.5.0",
          "model_name": "HTMLModel",
          "state": {
            "_dom_classes": [],
            "_model_module": "@jupyter-widgets/controls",
            "_model_module_version": "1.5.0",
            "_model_name": "HTMLModel",
            "_view_count": null,
            "_view_module": "@jupyter-widgets/controls",
            "_view_module_version": "1.5.0",
            "_view_name": "HTMLView",
            "description": "",
            "description_tooltip": null,
            "layout": "IPY_MODEL_2fe5ce4e7b6148b88357cf9621de1afe",
            "placeholder": "​",
            "style": "IPY_MODEL_728437530b4840bea8d24ba43e499a53",
            "value": "100%"
          }
        },
        "d14e0baf75a741d595e84095f2b66ce1": {
          "model_module": "@jupyter-widgets/base",
          "model_module_version": "1.2.0",
          "model_name": "LayoutModel",
          "state": {
            "_model_module": "@jupyter-widgets/base",
            "_model_module_version": "1.2.0",
            "_model_name": "LayoutModel",
            "_view_count": null,
            "_view_module": "@jupyter-widgets/base",
            "_view_module_version": "1.2.0",
            "_view_name": "LayoutView",
            "align_content": null,
            "align_items": null,
            "align_self": null,
            "border": null,
            "bottom": null,
            "display": null,
            "flex": null,
            "flex_flow": null,
            "grid_area": null,
            "grid_auto_columns": null,
            "grid_auto_flow": null,
            "grid_auto_rows": null,
            "grid_column": null,
            "grid_gap": null,
            "grid_row": null,
            "grid_template_areas": null,
            "grid_template_columns": null,
            "grid_template_rows": null,
            "height": null,
            "justify_content": null,
            "justify_items": null,
            "left": null,
            "margin": null,
            "max_height": null,
            "max_width": null,
            "min_height": null,
            "min_width": null,
            "object_fit": null,
            "object_position": null,
            "order": null,
            "overflow": null,
            "overflow_x": null,
            "overflow_y": null,
            "padding": null,
            "right": null,
            "top": null,
            "visibility": null,
            "width": null
          }
        },
        "d3715cc25c384ae58bc5fba1627810e6": {
          "model_module": "@jupyter-widgets/base",
          "model_module_version": "1.2.0",
          "model_name": "LayoutModel",
          "state": {
            "_model_module": "@jupyter-widgets/base",
            "_model_module_version": "1.2.0",
            "_model_name": "LayoutModel",
            "_view_count": null,
            "_view_module": "@jupyter-widgets/base",
            "_view_module_version": "1.2.0",
            "_view_name": "LayoutView",
            "align_content": null,
            "align_items": null,
            "align_self": null,
            "border": null,
            "bottom": null,
            "display": null,
            "flex": null,
            "flex_flow": null,
            "grid_area": null,
            "grid_auto_columns": null,
            "grid_auto_flow": null,
            "grid_auto_rows": null,
            "grid_column": null,
            "grid_gap": null,
            "grid_row": null,
            "grid_template_areas": null,
            "grid_template_columns": null,
            "grid_template_rows": null,
            "height": null,
            "justify_content": null,
            "justify_items": null,
            "left": null,
            "margin": null,
            "max_height": null,
            "max_width": null,
            "min_height": null,
            "min_width": null,
            "object_fit": null,
            "object_position": null,
            "order": null,
            "overflow": null,
            "overflow_x": null,
            "overflow_y": null,
            "padding": null,
            "right": null,
            "top": null,
            "visibility": null,
            "width": null
          }
        },
        "d6592afb1a1f4dc1884f4358cd43572a": {
          "model_module": "@jupyter-widgets/controls",
          "model_module_version": "1.5.0",
          "model_name": "FloatProgressModel",
          "state": {
            "_dom_classes": [],
            "_model_module": "@jupyter-widgets/controls",
            "_model_module_version": "1.5.0",
            "_model_name": "FloatProgressModel",
            "_view_count": null,
            "_view_module": "@jupyter-widgets/controls",
            "_view_module_version": "1.5.0",
            "_view_name": "ProgressView",
            "bar_style": "success",
            "description": "",
            "description_tooltip": null,
            "layout": "IPY_MODEL_1e8868239a184a60810ef2ec252c5294",
            "max": 24,
            "min": 0,
            "orientation": "horizontal",
            "style": "IPY_MODEL_34848c87a535432da4aa9d38a270b043",
            "value": 24
          }
        }
      }
    }
  },
  "nbformat": 4,
  "nbformat_minor": 0
}
