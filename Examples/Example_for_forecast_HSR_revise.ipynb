{
  "cells": [
    {
      "cell_type": "markdown",
      "source": [
        "<!--NOTEBOOK_HEADER-->\n",
        "This notebook contain AI based energy transition examples from [AI energy transition group](https://github.com/ShengrenHou/Energy-Data-and-Model-Platform);\n",
        "content is available [on Github](https://github.com/ShengrenHou/Energy-Data-and-Model-Platform)."
      ],
      "metadata": {
        "id": "9l74GOVEKnak"
      }
    },
    {
      "cell_type": "markdown",
      "source": [
        "<!--NAVIGATION-->\n",
        "< [1.1 60 Minutes to Electricity forecasting: An Dutch day ahead market electricity price forecasting example](https://ndcbe.github.io/CBE60499/01.01-Pyomo-Nuts-and-Bolts.html) \n",
        "\n",
        "<p><a href=\"https://colab.research.google.com/github/ndcbe/CBE60499/blob/master/docs/01.02-Pyomo-Mini-Project.ipynb\"> <img align=\"left\" src=\"https://colab.research.google.com/assets/colab-badge.svg\" alt=\"Open in Colab\" title=\"Open in Google Colaboratory\"></a><p><a href=\"https://ndcbe.github.io/CBE60499/01.02-Pyomo-Mini-Project.ipynb\"> <img align=\"left\" src=\"https://img.shields.io/badge/Github-Download-blue.svg\" alt=\"Download\" title=\"Download Notebook\"></a>"
      ],
      "metadata": {
        "id": "1JFOS4zDJ6Gl"
      }
    },
    {
      "cell_type": "markdown",
      "source": [
        "### Dutch (Day Ahead Market) DAM electricity price forecasting \n",
        "\n",
        "Electricity price forecasting (EPF) is a branch of energy forecasting which focuses on predicting the spot and forward prices in wholesale electricity markets. Over the last 15 years electricity price forecasts have become a fundamental input to energy companies’ decision-making mechanisms at the corporate level.\n",
        "\n",
        "In this example, two typical machine learning algorithms, i.e. Least absolute shrinkage and selection operator (LASSO) and Deep nerual network (DNN)  are implemented for the DAM electricity price forecasting based on real Dutch market data.\n",
        "\n",
        "We develop this document based on the help of Ties. \n",
        "\n",
        "References:\n",
        "-[Electricity price forecasting: A review of the state-of-the-art with a look into the future](https://www.sciencedirect.com/science/article/pii/S0169207014001083)"
      ],
      "metadata": {
        "id": "LYtO0uLGxtSa"
      }
    },
    {
      "cell_type": "markdown",
      "source": [
        "## Environment preparation \n"
      ],
      "metadata": {
        "id": "fYERHpg0yTT2"
      }
    },
    {
      "cell_type": "markdown",
      "source": [
        "Install [scikit-learn package](https://scikit-learn.org/stable/). \n",
        "The implemented two machine learning algorithms are imported from scikit-learn package. \n"
      ],
      "metadata": {
        "id": "FjS46YROh613"
      }
    },
    {
      "cell_type": "code",
      "source": [
        "! pip3 install -U scikit-learn"
      ],
      "metadata": {
        "colab": {
          "base_uri": "https://localhost:8080/"
        },
        "id": "MGx1LitkWxRi",
        "outputId": "40d12033-6d8d-445b-9886-e72971431aa8"
      },
      "execution_count": 1,
      "outputs": [
        {
          "output_type": "stream",
          "name": "stdout",
          "text": [
            "Looking in indexes: https://pypi.org/simple, https://us-python.pkg.dev/colab-wheels/public/simple/\n",
            "Requirement already satisfied: scikit-learn in /usr/local/lib/python3.7/dist-packages (1.0.2)\n",
            "Requirement already satisfied: numpy>=1.14.6 in /usr/local/lib/python3.7/dist-packages (from scikit-learn) (1.21.6)\n",
            "Requirement already satisfied: joblib>=0.11 in /usr/local/lib/python3.7/dist-packages (from scikit-learn) (1.2.0)\n",
            "Requirement already satisfied: scipy>=1.1.0 in /usr/local/lib/python3.7/dist-packages (from scikit-learn) (1.7.3)\n",
            "Requirement already satisfied: threadpoolctl>=2.0.0 in /usr/local/lib/python3.7/dist-packages (from scikit-learn) (3.1.0)\n"
          ]
        }
      ]
    },
    {
      "cell_type": "code",
      "source": [
        "import pandas as pd\n",
        "import numpy as np\n",
        "from pathlib import Path\n",
        "import matplotlib.pyplot as plt\n",
        "import matplotlib.dates as mdates\n",
        "import matplotlib.ticker as ticker\n",
        "from sklearn.linear_model import Lasso, LassoCV\n",
        "from sklearn.neural_network import MLPRegressor\n",
        "from sklearn.model_selection import GridSearchCV, train_test_split\n",
        "from sklearn.preprocessing import StandardScaler\n",
        "from tqdm.notebook import tqdm\n",
        "import pickle"
      ],
      "metadata": {
        "id": "Du-4E4TvyR18"
      },
      "execution_count": 3,
      "outputs": []
    },
    {
      "cell_type": "markdown",
      "source": [
        "## Data Prepartion \n"
      ],
      "metadata": {
        "id": "Yc4z7MDTx91N"
      }
    },
    {
      "cell_type": "markdown",
      "source": [
        "### Data download and read "
      ],
      "metadata": {
        "id": "-L3Wx7jeyEVr"
      }
    },
    {
      "cell_type": "markdown",
      "source": [
        "Download data from our [github](https://github.com/ShengrenHou/Energy-Data-and-Model-Platform) link"
      ],
      "metadata": {
        "id": "yejJpc6dpcED"
      }
    },
    {
      "cell_type": "code",
      "source": [
        "!git clone https://github.com/ShengrenHou/Energy-Data-and-Model-Platform"
      ],
      "metadata": {
        "colab": {
          "base_uri": "https://localhost:8080/"
        },
        "id": "RjPXgzbugFYA",
        "outputId": "a8fd133d-f8c2-4c3a-c3f0-6a3e16ab1cbb"
      },
      "execution_count": 4,
      "outputs": [
        {
          "output_type": "stream",
          "name": "stdout",
          "text": [
            "Cloning into 'Energy-Data-and-Model-Platform'...\n",
            "remote: Enumerating objects: 54, done.\u001b[K\n",
            "remote: Counting objects: 100% (54/54), done.\u001b[K\n",
            "remote: Compressing objects: 100% (52/52), done.\u001b[K\n",
            "remote: Total 54 (delta 8), reused 44 (delta 1), pack-reused 0\u001b[K\n",
            "Unpacking objects: 100% (54/54), done.\n"
          ]
        }
      ]
    },
    {
      "cell_type": "markdown",
      "source": [
        "Read csv data as pandas dataframe and use the first column as the index (time index)"
      ],
      "metadata": {
        "id": "-UPVsIoBpt-i"
      }
    },
    {
      "cell_type": "code",
      "source": [
        "data=pd.read_csv('./Energy-Data-and-Model-Platform/Data/NL.csv',index_col=0,parse_dates=True,)\n",
        "data"
      ],
      "metadata": {
        "id": "ra-R4rM6ioHR",
        "colab": {
          "base_uri": "https://localhost:8080/",
          "height": 417
        },
        "outputId": "3794f78b-b57f-4d4f-8c11-12135b1084a7"
      },
      "execution_count": 5,
      "outputs": [
        {
          "output_type": "execute_result",
          "data": {
            "text/plain": [
              "                           Price      Load\n",
              "2015-01-01 00:00:00+01:00    NaN   9794.00\n",
              "2015-01-01 01:00:00+01:00    NaN   9456.00\n",
              "2015-01-01 02:00:00+01:00    NaN   8956.75\n",
              "2015-01-01 03:00:00+01:00    NaN   8461.50\n",
              "2015-01-01 04:00:00+01:00    NaN   8156.00\n",
              "...                          ...       ...\n",
              "2019-12-31 19:00:00+01:00  46.00  13517.25\n",
              "2019-12-31 20:00:00+01:00  42.20  12799.25\n",
              "2019-12-31 21:00:00+01:00  39.74  12064.25\n",
              "2019-12-31 22:00:00+01:00  38.88  11641.25\n",
              "2019-12-31 23:00:00+01:00  37.21  11417.75\n",
              "\n",
              "[43824 rows x 2 columns]"
            ],
            "text/html": [
              "\n",
              "  <div id=\"df-f4480dcf-5297-4b77-b05d-efa4155cee9b\">\n",
              "    <div class=\"colab-df-container\">\n",
              "      <div>\n",
              "<style scoped>\n",
              "    .dataframe tbody tr th:only-of-type {\n",
              "        vertical-align: middle;\n",
              "    }\n",
              "\n",
              "    .dataframe tbody tr th {\n",
              "        vertical-align: top;\n",
              "    }\n",
              "\n",
              "    .dataframe thead th {\n",
              "        text-align: right;\n",
              "    }\n",
              "</style>\n",
              "<table border=\"1\" class=\"dataframe\">\n",
              "  <thead>\n",
              "    <tr style=\"text-align: right;\">\n",
              "      <th></th>\n",
              "      <th>Price</th>\n",
              "      <th>Load</th>\n",
              "    </tr>\n",
              "  </thead>\n",
              "  <tbody>\n",
              "    <tr>\n",
              "      <th>2015-01-01 00:00:00+01:00</th>\n",
              "      <td>NaN</td>\n",
              "      <td>9794.00</td>\n",
              "    </tr>\n",
              "    <tr>\n",
              "      <th>2015-01-01 01:00:00+01:00</th>\n",
              "      <td>NaN</td>\n",
              "      <td>9456.00</td>\n",
              "    </tr>\n",
              "    <tr>\n",
              "      <th>2015-01-01 02:00:00+01:00</th>\n",
              "      <td>NaN</td>\n",
              "      <td>8956.75</td>\n",
              "    </tr>\n",
              "    <tr>\n",
              "      <th>2015-01-01 03:00:00+01:00</th>\n",
              "      <td>NaN</td>\n",
              "      <td>8461.50</td>\n",
              "    </tr>\n",
              "    <tr>\n",
              "      <th>2015-01-01 04:00:00+01:00</th>\n",
              "      <td>NaN</td>\n",
              "      <td>8156.00</td>\n",
              "    </tr>\n",
              "    <tr>\n",
              "      <th>...</th>\n",
              "      <td>...</td>\n",
              "      <td>...</td>\n",
              "    </tr>\n",
              "    <tr>\n",
              "      <th>2019-12-31 19:00:00+01:00</th>\n",
              "      <td>46.00</td>\n",
              "      <td>13517.25</td>\n",
              "    </tr>\n",
              "    <tr>\n",
              "      <th>2019-12-31 20:00:00+01:00</th>\n",
              "      <td>42.20</td>\n",
              "      <td>12799.25</td>\n",
              "    </tr>\n",
              "    <tr>\n",
              "      <th>2019-12-31 21:00:00+01:00</th>\n",
              "      <td>39.74</td>\n",
              "      <td>12064.25</td>\n",
              "    </tr>\n",
              "    <tr>\n",
              "      <th>2019-12-31 22:00:00+01:00</th>\n",
              "      <td>38.88</td>\n",
              "      <td>11641.25</td>\n",
              "    </tr>\n",
              "    <tr>\n",
              "      <th>2019-12-31 23:00:00+01:00</th>\n",
              "      <td>37.21</td>\n",
              "      <td>11417.75</td>\n",
              "    </tr>\n",
              "  </tbody>\n",
              "</table>\n",
              "<p>43824 rows × 2 columns</p>\n",
              "</div>\n",
              "      <button class=\"colab-df-convert\" onclick=\"convertToInteractive('df-f4480dcf-5297-4b77-b05d-efa4155cee9b')\"\n",
              "              title=\"Convert this dataframe to an interactive table.\"\n",
              "              style=\"display:none;\">\n",
              "        \n",
              "  <svg xmlns=\"http://www.w3.org/2000/svg\" height=\"24px\"viewBox=\"0 0 24 24\"\n",
              "       width=\"24px\">\n",
              "    <path d=\"M0 0h24v24H0V0z\" fill=\"none\"/>\n",
              "    <path d=\"M18.56 5.44l.94 2.06.94-2.06 2.06-.94-2.06-.94-.94-2.06-.94 2.06-2.06.94zm-11 1L8.5 8.5l.94-2.06 2.06-.94-2.06-.94L8.5 2.5l-.94 2.06-2.06.94zm10 10l.94 2.06.94-2.06 2.06-.94-2.06-.94-.94-2.06-.94 2.06-2.06.94z\"/><path d=\"M17.41 7.96l-1.37-1.37c-.4-.4-.92-.59-1.43-.59-.52 0-1.04.2-1.43.59L10.3 9.45l-7.72 7.72c-.78.78-.78 2.05 0 2.83L4 21.41c.39.39.9.59 1.41.59.51 0 1.02-.2 1.41-.59l7.78-7.78 2.81-2.81c.8-.78.8-2.07 0-2.86zM5.41 20L4 18.59l7.72-7.72 1.47 1.35L5.41 20z\"/>\n",
              "  </svg>\n",
              "      </button>\n",
              "      \n",
              "  <style>\n",
              "    .colab-df-container {\n",
              "      display:flex;\n",
              "      flex-wrap:wrap;\n",
              "      gap: 12px;\n",
              "    }\n",
              "\n",
              "    .colab-df-convert {\n",
              "      background-color: #E8F0FE;\n",
              "      border: none;\n",
              "      border-radius: 50%;\n",
              "      cursor: pointer;\n",
              "      display: none;\n",
              "      fill: #1967D2;\n",
              "      height: 32px;\n",
              "      padding: 0 0 0 0;\n",
              "      width: 32px;\n",
              "    }\n",
              "\n",
              "    .colab-df-convert:hover {\n",
              "      background-color: #E2EBFA;\n",
              "      box-shadow: 0px 1px 2px rgba(60, 64, 67, 0.3), 0px 1px 3px 1px rgba(60, 64, 67, 0.15);\n",
              "      fill: #174EA6;\n",
              "    }\n",
              "\n",
              "    [theme=dark] .colab-df-convert {\n",
              "      background-color: #3B4455;\n",
              "      fill: #D2E3FC;\n",
              "    }\n",
              "\n",
              "    [theme=dark] .colab-df-convert:hover {\n",
              "      background-color: #434B5C;\n",
              "      box-shadow: 0px 1px 3px 1px rgba(0, 0, 0, 0.15);\n",
              "      filter: drop-shadow(0px 1px 2px rgba(0, 0, 0, 0.3));\n",
              "      fill: #FFFFFF;\n",
              "    }\n",
              "  </style>\n",
              "\n",
              "      <script>\n",
              "        const buttonEl =\n",
              "          document.querySelector('#df-f4480dcf-5297-4b77-b05d-efa4155cee9b button.colab-df-convert');\n",
              "        buttonEl.style.display =\n",
              "          google.colab.kernel.accessAllowed ? 'block' : 'none';\n",
              "\n",
              "        async function convertToInteractive(key) {\n",
              "          const element = document.querySelector('#df-f4480dcf-5297-4b77-b05d-efa4155cee9b');\n",
              "          const dataTable =\n",
              "            await google.colab.kernel.invokeFunction('convertToInteractive',\n",
              "                                                     [key], {});\n",
              "          if (!dataTable) return;\n",
              "\n",
              "          const docLinkHtml = 'Like what you see? Visit the ' +\n",
              "            '<a target=\"_blank\" href=https://colab.research.google.com/notebooks/data_table.ipynb>data table notebook</a>'\n",
              "            + ' to learn more about interactive tables.';\n",
              "          element.innerHTML = '';\n",
              "          dataTable['output_type'] = 'display_data';\n",
              "          await google.colab.output.renderOutput(dataTable, element);\n",
              "          const docLink = document.createElement('div');\n",
              "          docLink.innerHTML = docLinkHtml;\n",
              "          element.appendChild(docLink);\n",
              "        }\n",
              "      </script>\n",
              "    </div>\n",
              "  </div>\n",
              "  "
            ]
          },
          "metadata": {},
          "execution_count": 5
        }
      ]
    },
    {
      "cell_type": "markdown",
      "source": [
        "Tansfer data index as datetime based on pandas fuunction."
      ],
      "metadata": {
        "id": "3g-7-rtnp7br"
      }
    },
    {
      "cell_type": "code",
      "source": [
        "data.index=pd.to_datetime(data.index,yearfirst=True,utc=True,format='%Y-%m-%d %H:%M:%S')\n",
        "print(data.index)\n",
        "print(type(data.index))\n",
        "print(data.index.hour)\n",
        "print(data.index.year)\n"
      ],
      "metadata": {
        "id": "ZbpVU7JDmq01",
        "colab": {
          "base_uri": "https://localhost:8080/"
        },
        "outputId": "58802953-0fd2-4d40-879d-fa100de78b34"
      },
      "execution_count": 6,
      "outputs": [
        {
          "output_type": "stream",
          "name": "stdout",
          "text": [
            "<class 'pandas.core.indexes.datetimes.DatetimeIndex'>\n",
            "Int64Index([23,  0,  1,  2,  3,  4,  5,  6,  7,  8,\n",
            "            ...\n",
            "            13, 14, 15, 16, 17, 18, 19, 20, 21, 22],\n",
            "           dtype='int64', length=43824)\n",
            "Int64Index([2014, 2015, 2015, 2015, 2015, 2015, 2015, 2015, 2015, 2015,\n",
            "            ...\n",
            "            2019, 2019, 2019, 2019, 2019, 2019, 2019, 2019, 2019, 2019],\n",
            "           dtype='int64', length=43824)\n"
          ]
        }
      ]
    },
    {
      "cell_type": "markdown",
      "source": [
        "Rearrange data, so we have daily indices with hourly values in the columns \n"
      ],
      "metadata": {
        "id": "v5sB8p0Aym4O"
      }
    },
    {
      "cell_type": "code",
      "source": [
        "grouped_prices = data.loc[:, ['Price']].groupby(data.index.hour)\n",
        "daily_prices = pd.DataFrame(index=data.loc[data.index.hour==0].index, columns=range(24), data={h: grouped_prices.get_group(h).values.flatten() for h in range(24)})"
      ],
      "metadata": {
        "id": "wjJN6o6YyzfM"
      },
      "execution_count": null,
      "outputs": []
    },
    {
      "cell_type": "code",
      "source": [
        "grouped_load = data.loc[:, ['Load']].groupby(data.index.hour)\n",
        "daily_load = pd.DataFrame(index=data.loc[data.index.hour==0].index, columns=range(24), data={h: grouped_load.get_group(h).values.flatten() for h in range(24)})"
      ],
      "metadata": {
        "id": "IWQJy8oEy0Zn"
      },
      "execution_count": null,
      "outputs": []
    },
    {
      "cell_type": "markdown",
      "source": [
        "Make a feature dataframe with lagged loads and prices. We include the data of the last three days, and the same day last week (d-1, d-2, d-3, d-7)\n"
      ],
      "metadata": {
        "id": "0Gzxf6aYy88L"
      }
    },
    {
      "cell_type": "code",
      "source": [
        "lags = [1, 2, 3, 7]\n",
        "\n",
        "X = pd.concat([daily_prices.shift(l) for l in lags] + [daily_load.shift(l) for l in lags], axis=1).astype(float)\n",
        "X.columns = [f'P_{h}_{l}' for l in lags for h in range(24)] + [f'L_{h}_{l}' for l in lags for h in range(24)]"
      ],
      "metadata": {
        "id": "kJyREM6szVdn"
      },
      "execution_count": null,
      "outputs": []
    },
    {
      "cell_type": "markdown",
      "source": [
        "Now add the day of the week as a feature. We make a difference for the LASSO (linear model) and the Neural Network (non-linear model). LASSO needs one-hot encoding for these features, while the neural network can deal with a single weekday column having integers representing days."
      ],
      "metadata": {
        "id": "hVEQMbh_zN01"
      }
    },
    {
      "cell_type": "code",
      "source": [
        "X_lasso = X.copy()\n",
        "for d in range(7):\n",
        "    X_lasso.loc[X_lasso.index.weekday==d, f'D_{d}']=1\n",
        "    X_lasso.loc[X_lasso.index.weekday!=d, f'D_{d}']=0"
      ],
      "metadata": {
        "id": "5TgnIi7nzbhy"
      },
      "execution_count": null,
      "outputs": []
    },
    {
      "cell_type": "code",
      "source": [
        "X_mlp = X.copy()\n",
        "X_mlp.loc[:, 'DOW'] = X_mlp.index.weekday"
      ],
      "metadata": {
        "id": "hfW2vuzZz6XX"
      },
      "execution_count": null,
      "outputs": []
    },
    {
      "cell_type": "code",
      "source": [
        "X_lasso.dropna(inplace=True)\n",
        "X_mlp.dropna(inplace=True)\n",
        "\n",
        "y = daily_prices.loc[(daily_prices.index.isin(X_lasso.index)) & (daily_prices.index.isin(X_mlp.index))]"
      ],
      "metadata": {
        "id": "Zrt8g3vVz8dn"
      },
      "execution_count": null,
      "outputs": []
    },
    {
      "cell_type": "markdown",
      "source": [
        "Split the data in train-test sets. We use 2019 as test set and the rest as training set. For the lasso we use a different model per hour, and use a single train-test split where we decide the lasso-coefficient on the training data only."
      ],
      "metadata": {
        "id": "wGp3HMViz_9W"
      }
    },
    {
      "cell_type": "code",
      "source": [
        "def lasso_cols(h):\n",
        "    return [f'P_{h}_{l}' for l in lags] + [f'L_{h}_{l}' for l in lags] + [f'D_{d}' for d in range(7)]\n",
        "\n",
        "test_years = [2019]#[2018, 2019]\n",
        "\n",
        "Xdict_lasso = {\n",
        "    h: {\n",
        "        'train': X_lasso.loc[~(X_lasso.index.year.isin(test_years)), lasso_cols(h)],\n",
        "        'test': X_lasso.loc[(X_lasso.index.year.isin(test_years)), lasso_cols(h)] \n",
        "    } for h in range(24)\n",
        "}\n",
        "\n",
        "ydict_lasso = {\n",
        "    h: {\n",
        "        'train': y.loc[~(y.index.year.isin(test_years)), h],\n",
        "        'test': y.loc[(y.index.year.isin(test_years)), h]\n",
        "    } for h in range(24)\n",
        "}\n",
        "\n",
        "Xdict_mlp = {\n",
        "    'train': X_mlp.loc[~(X_mlp.index.year.isin(test_years))],\n",
        "    'test': X_mlp.loc[(X_mlp.index.year.isin(test_years))]\n",
        "}\n",
        "\n",
        "ydict_mlp = {\n",
        "    'train': y.loc[~(y.index.year.isin(test_years))],\n",
        "    'test': y.loc[(y.index.year.isin(test_years))]\n",
        "}"
      ],
      "metadata": {
        "id": "k_JzM23t0HUt"
      },
      "execution_count": null,
      "outputs": []
    },
    {
      "cell_type": "markdown",
      "source": [
        "Fit a Z-score standard scaler to the feature training set."
      ],
      "metadata": {
        "id": "pyCHTTL70J5i"
      }
    },
    {
      "cell_type": "code",
      "source": [
        "scaler_lasso = {h: StandardScaler().fit(Xdict_lasso[h]['train']) for h in range(24)}\n",
        "scaler_mlp = StandardScaler().fit(Xdict_mlp['train'])"
      ],
      "metadata": {
        "id": "Z8jvG40P0I7v"
      },
      "execution_count": null,
      "outputs": []
    },
    {
      "cell_type": "markdown",
      "source": [
        "## Train and evaluate by LASSO\n",
        "\n",
        "[Least absolute shrinkage and selection operator (LASSO)](https://www.jstor.org/stable/2346178#metadata_info_tab_contents), is a regression analysis method that performs both variable selection and regularization in order to enhance the prediction accuracy and interpretability of the resulting statistical model.\n",
        "\n",
        "Lasso was originally formulated for linear regression models. This simple case reveals a substantial amount about the estimator. These include its relationship to ridge regression and best subset selection and the connections between lasso coefficient estimates and so-called soft thresholding. It also reveals that (like standard linear regression) the coefficient estimates do not need to be unique if covariates are collinear.\n",
        "\n",
        "In this part, LASSO is implemented to train the price forecast model."
      ],
      "metadata": {
        "id": "YxtvTMQM0knh"
      }
    },
    {
      "cell_type": "markdown",
      "source": [
        "### Optimizing the LASSo "
      ],
      "metadata": {
        "id": "Xv0pstSg0ySQ"
      }
    },
    {
      "cell_type": "markdown",
      "source": [
        "Make a handy iterable for the cross-validation, this way we can split the sets by year instead of random."
      ],
      "metadata": {
        "id": "8UwJqPd706uR"
      }
    },
    {
      "cell_type": "code",
      "source": [
        "y_t = ydict_lasso[0]['train']\n",
        "ind_df = pd.DataFrame(index=y_t.index, data={'idx': range(len(y_t.index))})\n",
        "cv = [ (ind_df.loc[ind_df.index.year!=year, 'idx'].values, ind_df.loc[ind_df.index.year==year, 'idx'].values) for year in range(2015, 2019)]"
      ],
      "metadata": {
        "id": "tysuzPm-0xCY"
      },
      "execution_count": null,
      "outputs": []
    },
    {
      "cell_type": "markdown",
      "source": [
        "For the LASSO we train a single model per hour of the day. So we need to optimise 24 penalty coefficients."
      ],
      "metadata": {
        "id": "9WTZBrZ-1CoB"
      }
    },
    {
      "cell_type": "code",
      "source": [
        "LassoCV_dict={\n",
        "    h: LassoCV(cv=cv).fit(X=scaler_lasso[h].transform(Xdict_lasso[h]['train']), y=ydict_lasso[h]['train'].values) for h in tqdm(range(24))\n",
        "}"
      ],
      "metadata": {
        "id": "qHT-yU_z1SOa",
        "colab": {
          "base_uri": "https://localhost:8080/",
          "height": 49,
          "referenced_widgets": [
            "0fb18d9f503d463f84837eb694fb2457",
            "41b49a9eb142437f8fd5db3646d834e3",
            "d6592afb1a1f4dc1884f4358cd43572a",
            "5c15d5b01d7f40bbb3ec80217e136d9e",
            "d3715cc25c384ae58bc5fba1627810e6",
            "d14e0baf75a741d595e84095f2b66ce1",
            "7950a0ac9c064f9e961ee97fe343a3e2",
            "1e8868239a184a60810ef2ec252c5294",
            "34848c87a535432da4aa9d38a270b043",
            "30d8faf4327245b5ab6907b2dda62f3a",
            "be72d070cac74a9bae285eb69b36c62b"
          ]
        },
        "outputId": "373f6dfe-07ca-4f48-ffce-843eb992cb60"
      },
      "execution_count": null,
      "outputs": [
        {
          "output_type": "display_data",
          "data": {
            "text/plain": [
              "  0%|          | 0/24 [00:00<?, ?it/s]"
            ],
            "application/vnd.jupyter.widget-view+json": {
              "version_major": 2,
              "version_minor": 0,
              "model_id": "0fb18d9f503d463f84837eb694fb2457"
            }
          },
          "metadata": {}
        }
      ]
    },
    {
      "cell_type": "markdown",
      "source": [
        "We extract the optimised penalty coefficients."
      ],
      "metadata": {
        "id": "b7r8W5-i1Way"
      }
    },
    {
      "cell_type": "code",
      "source": [
        "alphas = {\n",
        "    h: LassoCV_dict[h].alpha_ for h in range(24)\n",
        "}"
      ],
      "metadata": {
        "id": "XyBu2xxa1Yw6"
      },
      "execution_count": null,
      "outputs": []
    },
    {
      "cell_type": "markdown",
      "source": [
        "Now we refit the models on the whole training data with the optimised penalty coefficients."
      ],
      "metadata": {
        "id": "_-l2-Swy1cg8"
      }
    },
    {
      "cell_type": "code",
      "source": [
        "lasso_dict = {\n",
        "    h: Lasso(alpha=alphas[h]).fit(X=scaler_lasso[h].transform(Xdict_lasso[h]['train']), y=ydict_lasso[h]['train'].values) for h in tqdm(range(24))\n",
        "}"
      ],
      "metadata": {
        "id": "1QNz_v7y1a-a",
        "colab": {
          "base_uri": "https://localhost:8080/",
          "height": 49,
          "referenced_widgets": [
            "5681483f3f6848738cb5bc0b50543e4a",
            "cde58a79cf6743f7a26e25137a14a9f1",
            "92b502573b484e39b9be4ddc8c7ebce4",
            "1e86f90b581a4e99ab4f4eed1a3ccff3",
            "9ed404cf391f43bbbe4d13b2856bf926",
            "2fe5ce4e7b6148b88357cf9621de1afe",
            "728437530b4840bea8d24ba43e499a53",
            "a9bd8bef0511433bace0b3fa9474ebe1",
            "3373b4d6fcb6485497e8c79c99386ac6",
            "2fdd5a30f1524b0da2de6331446f3520",
            "4ecf8faa6c7a48baa6cd663fded51c91"
          ]
        },
        "outputId": "3585a69e-f0fc-45b9-ef53-936c838988fe"
      },
      "execution_count": null,
      "outputs": [
        {
          "output_type": "display_data",
          "data": {
            "text/plain": [
              "  0%|          | 0/24 [00:00<?, ?it/s]"
            ],
            "application/vnd.jupyter.widget-view+json": {
              "version_major": 2,
              "version_minor": 0,
              "model_id": "5681483f3f6848738cb5bc0b50543e4a"
            }
          },
          "metadata": {}
        }
      ]
    },
    {
      "cell_type": "markdown",
      "source": [
        "### Forecasting with LASSO \n"
      ],
      "metadata": {
        "id": "Z6-FU84Z1lor"
      }
    },
    {
      "cell_type": "code",
      "source": [
        "lasso_fc = pd.DataFrame(index=ydict_mlp['test'].index, data={h: lasso_dict[h].predict(scaler_lasso[h].transform(Xdict_lasso[h]['test'])) for h in range(24)}).round(2)"
      ],
      "metadata": {
        "id": "t6gQHtwZ1ubT"
      },
      "execution_count": null,
      "outputs": []
    },
    {
      "cell_type": "code",
      "source": [
        "locator = mdates.AutoDateLocator(minticks=3, maxticks=7)\n",
        "formatter = mdates.ConciseDateFormatter(locator)\n",
        "\n",
        "def plot_forecast(date, fcdf, ax=None):\n",
        "    flag=False\n",
        "    \n",
        "    if ax is None:\n",
        "        fig, ax = plt.subplots(figsize=(5,2))\n",
        "        flag=True\n",
        "        \n",
        "    ax.xaxis.set_major_locator(locator)\n",
        "    ax.xaxis.set_major_formatter(formatter)\n",
        "    \n",
        "    \n",
        "    plotind=pd.date_range(date, freq='1H', periods=24)\n",
        "    \n",
        "    ax.step(plotind, daily_prices.loc[date, :].values, color='k', label='DAM price')\n",
        "    ax.step(plotind, fcdf.loc[date, :].values, color='C0', label='Forecast')\n",
        "    \n",
        "    ax.set_xlim(plotind[0], plotind[-1])\n",
        "\n",
        "    ax.set_ylabel('Price [$€ MWh^{-1}$]')\n",
        "    \n",
        "    \n",
        "    if flag:\n",
        "        ax.legend(loc='best')\n",
        "        "
      ],
      "metadata": {
        "id": "SmW62QIT1uOT"
      },
      "execution_count": null,
      "outputs": []
    },
    {
      "cell_type": "code",
      "source": [
        "day_nr=30\n",
        "plot_forecast(lasso_fc.index[day_nr], lasso_fc)"
      ],
      "metadata": {
        "id": "sSDuqNP31xVF",
        "colab": {
          "base_uri": "https://localhost:8080/",
          "height": 170
        },
        "outputId": "acc5d4c7-031b-45ba-e30c-61d4a12457be"
      },
      "execution_count": null,
      "outputs": [
        {
          "output_type": "display_data",
          "data": {
            "text/plain": [
              "<Figure size 360x144 with 1 Axes>"
            ],
            "image/png": "[encoded data removed]"
          },
          "metadata": {
            "needs_background": "light"
          }
        }
      ]
    },
    {
      "cell_type": "markdown",
      "source": [
        "## Training and forecasting for the DNNs \n",
        "\n",
        "A DNN is based on a collection of connected units or nodes called artificial neurons, which loosely model the neurons in a biological brain. Each connection, like the synapses in a biological brain, can transmit a signal to other neurons. DNNs have been widely used on load forecasting problems.\n",
        "\n",
        "We create the network with two hidden layers, first layer with 100 nodes and the second with 50 nodes. The nodes use the ReLU activation function, and the Adam optimiser is applied. We also apply early stopping, so we keep track of the loss on a validation set to know when to stop training.\n",
        "\n",
        "Reference: \n",
        "- [Wiki](https://en.wikipedia.org/wiki/Energy_forecasting)\n"
      ],
      "metadata": {
        "id": "D34krPtG12pt"
      }
    },
    {
      "cell_type": "code",
      "source": [
        "MLP = MLPRegressor(\n",
        "    hidden_layer_sizes=(100,50),\n",
        "    activation='relu',\n",
        "    solver='adam',\n",
        "    validation_fraction=0.2,\n",
        "    early_stopping=True,\n",
        "    n_iter_no_change=10,\n",
        "    max_iter=1000\n",
        ").fit(\n",
        "    X=scaler_mlp.transform(Xdict_mlp['train']),\n",
        "    y=ydict_mlp['train'].values\n",
        ")"
      ],
      "metadata": {
        "id": "B9DvM-G81_3G"
      },
      "execution_count": null,
      "outputs": []
    },
    {
      "cell_type": "code",
      "source": [
        "mlp_fc = pd.DataFrame(index=ydict_mlp['test'].index, columns=range(24))\n",
        "mlp_fc.loc[:,:] = MLP.predict(scaler_mlp.transform(Xdict_mlp['test']))"
      ],
      "metadata": {
        "id": "tHZaQOXe2ERm"
      },
      "execution_count": null,
      "outputs": []
    },
    {
      "cell_type": "code",
      "source": [
        "day_nr=30\n",
        "plot_forecast(mlp_fc.index[day_nr], mlp_fc)"
      ],
      "metadata": {
        "id": "mg89-tEj2FYX",
        "colab": {
          "base_uri": "https://localhost:8080/",
          "height": 170
        },
        "outputId": "24076ff5-16d2-4196-d319-749fe8b0caf8"
      },
      "execution_count": null,
      "outputs": [
        {
          "output_type": "display_data",
          "data": {
            "text/plain": [
              "<Figure size 360x144 with 1 Axes>"
            ],
            "image/png": "[encoded data removed]"
          },
          "metadata": {
            "needs_background": "light"
          }
        }
      ]
    },
    {
      "cell_type": "markdown",
      "source": [
        "## Evaluate the trained two models \n",
        "\n",
        "We evaluate the performance of trained two algorithms by root mean square error (RMSE), mean eroor (ME) and absolute mean error (MAE). \n",
        "\n",
        "Reference: \n",
        "- [data science paper](https://towardsdatascience.com/comparing-robustness-of-mae-mse-and-rmse-6d69da870828)"
      ],
      "metadata": {
        "id": "4DnYP5Ct2bl-"
      }
    },
    {
      "cell_type": "code",
      "source": [
        "def MAE(fcdf):\n",
        "    return (fcdf-ydict_mlp['test']).abs().mean().mean()\n",
        "\n",
        "def ME(fcdf):\n",
        "    return (fcdf-ydict_mlp['test']).mean().mean()\n",
        "\n",
        "def RMSE(fcdf):\n",
        "    return np.sqrt(((fcdf-ydict_mlp['test'])**2).mean().mean())"
      ],
      "metadata": {
        "id": "X4tizMMh2hCa"
      },
      "execution_count": null,
      "outputs": []
    },
    {
      "cell_type": "code",
      "source": [
        "stats = pd.DataFrame(index=['MAE', 'ME', 'RMSE'], columns=['LASSO', 'MLP'], dtype=float)\n",
        "stats.loc['MAE', :] = [MAE(lasso_fc), MAE(mlp_fc)]\n",
        "stats.loc['ME', :] = [ME(lasso_fc), ME(mlp_fc)]\n",
        "stats.loc['RMSE', :] = [RMSE(lasso_fc), RMSE(mlp_fc)]\n",
        "\n",
        "stats.round(2)"
      ],
      "metadata": {
        "id": "00yj2zqu2iL5",
        "colab": {
          "base_uri": "https://localhost:8080/",
          "height": 143
        },
        "outputId": "8a124db8-52bf-449f-bb64-349b4feaa01f"
      },
      "execution_count": null,
      "outputs": [
        {
          "output_type": "execute_result",
          "data": {
            "text/plain": [
              "      LASSO   MLP\n",
              "MAE    4.56  7.89\n",
              "ME     0.30  5.10\n",
              "RMSE   6.24  9.92"
            ],
            "text/html": [
              "\n",
              "  <div id=\"df-f7ad3c78-34d0-483f-abe0-324f6e259f49\">\n",
              "    <div class=\"colab-df-container\">\n",
              "      <div>\n",
              "<style scoped>\n",
              "    .dataframe tbody tr th:only-of-type {\n",
              "        vertical-align: middle;\n",
              "    }\n",
              "\n",
              "    .dataframe tbody tr th {\n",
              "        vertical-align: top;\n",
              "    }\n",
              "\n",
              "    .dataframe thead th {\n",
              "        text-align: right;\n",
              "    }\n",
              "</style>\n",
              "<table border=\"1\" class=\"dataframe\">\n",
              "  <thead>\n",
              "    <tr style=\"text-align: right;\">\n",
              "      <th></th>\n",
              "      <th>LASSO</th>\n",
              "      <th>MLP</th>\n",
              "    </tr>\n",
              "  </thead>\n",
              "  <tbody>\n",
              "    <tr>\n",
              "      <th>MAE</th>\n",
              "      <td>4.56</td>\n",
              "      <td>7.89</td>\n",
              "    </tr>\n",
              "    <tr>\n",
              "      <th>ME</th>\n",
              "      <td>0.30</td>\n",
              "      <td>5.10</td>\n",
              "    </tr>\n",
              "    <tr>\n",
              "      <th>RMSE</th>\n",
              "      <td>6.24</td>\n",
              "      <td>9.92</td>\n",
              "    </tr>\n",
              "  </tbody>\n",
              "</table>\n",
              "</div>\n",
              "      <button class=\"colab-df-convert\" onclick=\"convertToInteractive('df-f7ad3c78-34d0-483f-abe0-324f6e259f49')\"\n",
              "              title=\"Convert this dataframe to an interactive table.\"\n",
              "              style=\"display:none;\">\n",
              "        \n",
              "  <svg xmlns=\"http://www.w3.org/2000/svg\" height=\"24px\"viewBox=\"0 0 24 24\"\n",
              "       width=\"24px\">\n",
              "    <path d=\"M0 0h24v24H0V0z\" fill=\"none\"/>\n",
              "    <path d=\"M18.56 5.44l.94 2.06.94-2.06 2.06-.94-2.06-.94-.94-2.06-.94 2.06-2.06.94zm-11 1L8.5 8.5l.94-2.06 2.06-.94-2.06-.94L8.5 2.5l-.94 2.06-2.06.94zm10 10l.94 2.06.94-2.06 2.06-.94-2.06-.94-.94-2.06-.94 2.06-2.06.94z\"/><path d=\"M17.41 7.96l-1.37-1.37c-.4-.4-.92-.59-1.43-.59-.52 0-1.04.2-1.43.59L10.3 9.45l-7.72 7.72c-.78.78-.78 2.05 0 2.83L4 21.41c.39.39.9.59 1.41.59.51 0 1.02-.2 1.41-.59l7.78-7.78 2.81-2.81c.8-.78.8-2.07 0-2.86zM5.41 20L4 18.59l7.72-7.72 1.47 1.35L5.41 20z\"/>\n",
              "  </svg>\n",
              "      </button>\n",
              "      \n",
              "  <style>\n",
              "    .colab-df-container {\n",
              "      display:flex;\n",
              "      flex-wrap:wrap;\n",
              "      gap: 12px;\n",
              "    }\n",
              "\n",
              "    .colab-df-convert {\n",
              "      background-color: #E8F0FE;\n",
              "      border: none;\n",
              "      border-radius: 50%;\n",
              "      cursor: pointer;\n",
              "      display: none;\n",
              "      fill: #1967D2;\n",
              "      height: 32px;\n",
              "      padding: 0 0 0 0;\n",
              "      width: 32px;\n",
              "    }\n",
              "\n",
              "    .colab-df-convert:hover {\n",
              "      background-color: #E2EBFA;\n",
              "      box-shadow: 0px 1px 2px rgba(60, 64, 67, 0.3), 0px 1px 3px 1px rgba(60, 64, 67, 0.15);\n",
              "      fill: #174EA6;\n",
              "    }\n",
              "\n",
              "    [theme=dark] .colab-df-convert {\n",
              "      background-color: #3B4455;\n",
              "      fill: #D2E3FC;\n",
              "    }\n",
              "\n",
              "    [theme=dark] .colab-df-convert:hover {\n",
              "      background-color: #434B5C;\n",
              "      box-shadow: 0px 1px 3px 1px rgba(0, 0, 0, 0.15);\n",
              "      filter: drop-shadow(0px 1px 2px rgba(0, 0, 0, 0.3));\n",
              "      fill: #FFFFFF;\n",
              "    }\n",
              "  </style>\n",
              "\n",
              "      <script>\n",
              "        const buttonEl =\n",
              "          document.querySelector('#df-f7ad3c78-34d0-483f-abe0-324f6e259f49 button.colab-df-convert');\n",
              "        buttonEl.style.display =\n",
              "          google.colab.kernel.accessAllowed ? 'block' : 'none';\n",
              "\n",
              "        async function convertToInteractive(key) {\n",
              "          const element = document.querySelector('#df-f7ad3c78-34d0-483f-abe0-324f6e259f49');\n",
              "          const dataTable =\n",
              "            await google.colab.kernel.invokeFunction('convertToInteractive',\n",
              "                                                     [key], {});\n",
              "          if (!dataTable) return;\n",
              "\n",
              "          const docLinkHtml = 'Like what you see? Visit the ' +\n",
              "            '<a target=\"_blank\" href=https://colab.research.google.com/notebooks/data_table.ipynb>data table notebook</a>'\n",
              "            + ' to learn more about interactive tables.';\n",
              "          element.innerHTML = '';\n",
              "          dataTable['output_type'] = 'display_data';\n",
              "          await google.colab.output.renderOutput(dataTable, element);\n",
              "          const docLink = document.createElement('div');\n",
              "          docLink.innerHTML = docLinkHtml;\n",
              "          element.appendChild(docLink);\n",
              "        }\n",
              "      </script>\n",
              "    </div>\n",
              "  </div>\n",
              "  "
            ]
          },
          "metadata": {},
          "execution_count": 90
        }
      ]
    }
  ],
  "metadata": {
    "kernelspec": {
      "display_name": "Python 3",
      "language": "python",
      "name": "python3"
    },
    "language_info": {
      "codemirror_mode": {
        "name": "ipython",
        "version": 3
      },
      "file_extension": ".py",
      "mimetype": "text/x-python",
      "name": "python",
      "nbconvert_exporter": "python",
      "pygments_lexer": "ipython3",
      "version": "3.8.6"
    },
    "colab": {
      "provenance": [],
      "collapsed_sections": [
        "v5sB8p0Aym4O",
        "0Gzxf6aYy88L",
        "wGp3HMViz_9W",
        "pyCHTTL70J5i",
        "YxtvTMQM0knh",
        "Xv0pstSg0ySQ",
        "Z6-FU84Z1lor",
        "D34krPtG12pt"
      ]
    },
    "widgets": {
      "application/vnd.jupyter.widget-state+json": {
        "0fb18d9f503d463f84837eb694fb2457": {
          "model_module": "@jupyter-widgets/controls",
          "model_name": "HBoxModel",
          "model_module_version": "1.5.0",
          "state": {
            "_dom_classes": [],
            "_model_module": "@jupyter-widgets/controls",
            "_model_module_version": "1.5.0",
            "_model_name": "HBoxModel",
            "_view_count": null,
            "_view_module": "@jupyter-widgets/controls",
            "_view_module_version": "1.5.0",
            "_view_name": "HBoxView",
            "box_style": "",
            "children": [
              "IPY_MODEL_41b49a9eb142437f8fd5db3646d834e3",
              "IPY_MODEL_d6592afb1a1f4dc1884f4358cd43572a",
              "IPY_MODEL_5c15d5b01d7f40bbb3ec80217e136d9e"
            ],
            "layout": "IPY_MODEL_d3715cc25c384ae58bc5fba1627810e6"
          }
        },
        "41b49a9eb142437f8fd5db3646d834e3": {
          "model_module": "@jupyter-widgets/controls",
          "model_name": "HTMLModel",
          "model_module_version": "1.5.0",
          "state": {
            "_dom_classes": [],
            "_model_module": "@jupyter-widgets/controls",
            "_model_module_version": "1.5.0",
            "_model_name": "HTMLModel",
            "_view_count": null,
            "_view_module": "@jupyter-widgets/controls",
            "_view_module_version": "1.5.0",
            "_view_name": "HTMLView",
            "description": "",
            "description_tooltip": null,
            "layout": "IPY_MODEL_d14e0baf75a741d595e84095f2b66ce1",
            "placeholder": "​",
            "style": "IPY_MODEL_7950a0ac9c064f9e961ee97fe343a3e2",
            "value": "100%"
          }
        },
        "d6592afb1a1f4dc1884f4358cd43572a": {
          "model_module": "@jupyter-widgets/controls",
          "model_name": "FloatProgressModel",
          "model_module_version": "1.5.0",
          "state": {
            "_dom_classes": [],
            "_model_module": "@jupyter-widgets/controls",
            "_model_module_version": "1.5.0",
            "_model_name": "FloatProgressModel",
            "_view_count": null,
            "_view_module": "@jupyter-widgets/controls",
            "_view_module_version": "1.5.0",
            "_view_name": "ProgressView",
            "bar_style": "success",
            "description": "",
            "description_tooltip": null,
            "layout": "IPY_MODEL_1e8868239a184a60810ef2ec252c5294",
            "max": 24,
            "min": 0,
            "orientation": "horizontal",
            "style": "IPY_MODEL_34848c87a535432da4aa9d38a270b043",
            "value": 24
          }
        },
        "5c15d5b01d7f40bbb3ec80217e136d9e": {
          "model_module": "@jupyter-widgets/controls",
          "model_name": "HTMLModel",
          "model_module_version": "1.5.0",
          "state": {
            "_dom_classes": [],
            "_model_module": "@jupyter-widgets/controls",
            "_model_module_version": "1.5.0",
            "_model_name": "HTMLModel",
            "_view_count": null,
            "_view_module": "@jupyter-widgets/controls",
            "_view_module_version": "1.5.0",
            "_view_name": "HTMLView",
            "description": "",
            "description_tooltip": null,
            "layout": "IPY_MODEL_30d8faf4327245b5ab6907b2dda62f3a",
            "placeholder": "​",
            "style": "IPY_MODEL_be72d070cac74a9bae285eb69b36c62b",
            "value": " 24/24 [00:01&lt;00:00, 17.08it/s]"
          }
        },
        "d3715cc25c384ae58bc5fba1627810e6": {
          "model_module": "@jupyter-widgets/base",
          "model_name": "LayoutModel",
          "model_module_version": "1.2.0",
          "state": {
            "_model_module": "@jupyter-widgets/base",
            "_model_module_version": "1.2.0",
            "_model_name": "LayoutModel",
            "_view_count": null,
            "_view_module": "@jupyter-widgets/base",
            "_view_module_version": "1.2.0",
            "_view_name": "LayoutView",
            "align_content": null,
            "align_items": null,
            "align_self": null,
            "border": null,
            "bottom": null,
            "display": null,
            "flex": null,
            "flex_flow": null,
            "grid_area": null,
            "grid_auto_columns": null,
            "grid_auto_flow": null,
            "grid_auto_rows": null,
            "grid_column": null,
            "grid_gap": null,
            "grid_row": null,
            "grid_template_areas": null,
            "grid_template_columns": null,
            "grid_template_rows": null,
            "height": null,
            "justify_content": null,
            "justify_items": null,
            "left": null,
            "margin": null,
            "max_height": null,
            "max_width": null,
            "min_height": null,
            "min_width": null,
            "object_fit": null,
            "object_position": null,
            "order": null,
            "overflow": null,
            "overflow_x": null,
            "overflow_y": null,
            "padding": null,
            "right": null,
            "top": null,
            "visibility": null,
            "width": null
          }
        },
        "d14e0baf75a741d595e84095f2b66ce1": {
          "model_module": "@jupyter-widgets/base",
          "model_name": "LayoutModel",
          "model_module_version": "1.2.0",
          "state": {
            "_model_module": "@jupyter-widgets/base",
            "_model_module_version": "1.2.0",
            "_model_name": "LayoutModel",
            "_view_count": null,
            "_view_module": "@jupyter-widgets/base",
            "_view_module_version": "1.2.0",
            "_view_name": "LayoutView",
            "align_content": null,
            "align_items": null,
            "align_self": null,
            "border": null,
            "bottom": null,
            "display": null,
            "flex": null,
            "flex_flow": null,
            "grid_area": null,
            "grid_auto_columns": null,
            "grid_auto_flow": null,
            "grid_auto_rows": null,
            "grid_column": null,
            "grid_gap": null,
            "grid_row": null,
            "grid_template_areas": null,
            "grid_template_columns": null,
            "grid_template_rows": null,
            "height": null,
            "justify_content": null,
            "justify_items": null,
            "left": null,
            "margin": null,
            "max_height": null,
            "max_width": null,
            "min_height": null,
            "min_width": null,
            "object_fit": null,
            "object_position": null,
            "order": null,
            "overflow": null,
            "overflow_x": null,
            "overflow_y": null,
            "padding": null,
            "right": null,
            "top": null,
            "visibility": null,
            "width": null
          }
        },
        "7950a0ac9c064f9e961ee97fe343a3e2": {
          "model_module": "@jupyter-widgets/controls",
          "model_name": "DescriptionStyleModel",
          "model_module_version": "1.5.0",
          "state": {
            "_model_module": "@jupyter-widgets/controls",
            "_model_module_version": "1.5.0",
            "_model_name": "DescriptionStyleModel",
            "_view_count": null,
            "_view_module": "@jupyter-widgets/base",
            "_view_module_version": "1.2.0",
            "_view_name": "StyleView",
            "description_width": ""
          }
        },
        "1e8868239a184a60810ef2ec252c5294": {
          "model_module": "@jupyter-widgets/base",
          "model_name": "LayoutModel",
          "model_module_version": "1.2.0",
          "state": {
            "_model_module": "@jupyter-widgets/base",
            "_model_module_version": "1.2.0",
            "_model_name": "LayoutModel",
            "_view_count": null,
            "_view_module": "@jupyter-widgets/base",
            "_view_module_version": "1.2.0",
            "_view_name": "LayoutView",
            "align_content": null,
            "align_items": null,
            "align_self": null,
            "border": null,
            "bottom": null,
            "display": null,
            "flex": null,
            "flex_flow": null,
            "grid_area": null,
            "grid_auto_columns": null,
            "grid_auto_flow": null,
            "grid_auto_rows": null,
            "grid_column": null,
            "grid_gap": null,
            "grid_row": null,
            "grid_template_areas": null,
            "grid_template_columns": null,
            "grid_template_rows": null,
            "height": null,
            "justify_content": null,
            "justify_items": null,
            "left": null,
            "margin": null,
            "max_height": null,
            "max_width": null,
            "min_height": null,
            "min_width": null,
            "object_fit": null,
            "object_position": null,
            "order": null,
            "overflow": null,
            "overflow_x": null,
            "overflow_y": null,
            "padding": null,
            "right": null,
            "top": null,
            "visibility": null,
            "width": null
          }
        },
        "34848c87a535432da4aa9d38a270b043": {
          "model_module": "@jupyter-widgets/controls",
          "model_name": "ProgressStyleModel",
          "model_module_version": "1.5.0",
          "state": {
            "_model_module": "@jupyter-widgets/controls",
            "_model_module_version": "1.5.0",
            "_model_name": "ProgressStyleModel",
            "_view_count": null,
            "_view_module": "@jupyter-widgets/base",
            "_view_module_version": "1.2.0",
            "_view_name": "StyleView",
            "bar_color": null,
            "description_width": ""
          }
        },
        "30d8faf4327245b5ab6907b2dda62f3a": {
          "model_module": "@jupyter-widgets/base",
          "model_name": "LayoutModel",
          "model_module_version": "1.2.0",
          "state": {
            "_model_module": "@jupyter-widgets/base",
            "_model_module_version": "1.2.0",
            "_model_name": "LayoutModel",
            "_view_count": null,
            "_view_module": "@jupyter-widgets/base",
            "_view_module_version": "1.2.0",
            "_view_name": "LayoutView",
            "align_content": null,
            "align_items": null,
            "align_self": null,
            "border": null,
            "bottom": null,
            "display": null,
            "flex": null,
            "flex_flow": null,
            "grid_area": null,
            "grid_auto_columns": null,
            "grid_auto_flow": null,
            "grid_auto_rows": null,
            "grid_column": null,
            "grid_gap": null,
            "grid_row": null,
            "grid_template_areas": null,
            "grid_template_columns": null,
            "grid_template_rows": null,
            "height": null,
            "justify_content": null,
            "justify_items": null,
            "left": null,
            "margin": null,
            "max_height": null,
            "max_width": null,
            "min_height": null,
            "min_width": null,
            "object_fit": null,
            "object_position": null,
            "order": null,
            "overflow": null,
            "overflow_x": null,
            "overflow_y": null,
            "padding": null,
            "right": null,
            "top": null,
            "visibility": null,
            "width": null
          }
        },
        "be72d070cac74a9bae285eb69b36c62b": {
          "model_module": "@jupyter-widgets/controls",
          "model_name": "DescriptionStyleModel",
          "model_module_version": "1.5.0",
          "state": {
            "_model_module": "@jupyter-widgets/controls",
            "_model_module_version": "1.5.0",
            "_model_name": "DescriptionStyleModel",
            "_view_count": null,
            "_view_module": "@jupyter-widgets/base",
            "_view_module_version": "1.2.0",
            "_view_name": "StyleView",
            "description_width": ""
          }
        },
        "5681483f3f6848738cb5bc0b50543e4a": {
          "model_module": "@jupyter-widgets/controls",
          "model_name": "HBoxModel",
          "model_module_version": "1.5.0",
          "state": {
            "_dom_classes": [],
            "_model_module": "@jupyter-widgets/controls",
            "_model_module_version": "1.5.0",
            "_model_name": "HBoxModel",
            "_view_count": null,
            "_view_module": "@jupyter-widgets/controls",
            "_view_module_version": "1.5.0",
            "_view_name": "HBoxView",
            "box_style": "",
            "children": [
              "IPY_MODEL_cde58a79cf6743f7a26e25137a14a9f1",
              "IPY_MODEL_92b502573b484e39b9be4ddc8c7ebce4",
              "IPY_MODEL_1e86f90b581a4e99ab4f4eed1a3ccff3"
            ],
            "layout": "IPY_MODEL_9ed404cf391f43bbbe4d13b2856bf926"
          }
        },
        "cde58a79cf6743f7a26e25137a14a9f1": {
          "model_module": "@jupyter-widgets/controls",
          "model_name": "HTMLModel",
          "model_module_version": "1.5.0",
          "state": {
            "_dom_classes": [],
            "_model_module": "@jupyter-widgets/controls",
            "_model_module_version": "1.5.0",
            "_model_name": "HTMLModel",
            "_view_count": null,
            "_view_module": "@jupyter-widgets/controls",
            "_view_module_version": "1.5.0",
            "_view_name": "HTMLView",
            "description": "",
            "description_tooltip": null,
            "layout": "IPY_MODEL_2fe5ce4e7b6148b88357cf9621de1afe",
            "placeholder": "​",
            "style": "IPY_MODEL_728437530b4840bea8d24ba43e499a53",
            "value": "100%"
          }
        },
        "92b502573b484e39b9be4ddc8c7ebce4": {
          "model_module": "@jupyter-widgets/controls",
          "model_name": "FloatProgressModel",
          "model_module_version": "1.5.0",
          "state": {
            "_dom_classes": [],
            "_model_module": "@jupyter-widgets/controls",
            "_model_module_version": "1.5.0",
            "_model_name": "FloatProgressModel",
            "_view_count": null,
            "_view_module": "@jupyter-widgets/controls",
            "_view_module_version": "1.5.0",
            "_view_name": "ProgressView",
            "bar_style": "success",
            "description": "",
            "description_tooltip": null,
            "layout": "IPY_MODEL_a9bd8bef0511433bace0b3fa9474ebe1",
            "max": 24,
            "min": 0,
            "orientation": "horizontal",
            "style": "IPY_MODEL_3373b4d6fcb6485497e8c79c99386ac6",
            "value": 24
          }
        },
        "1e86f90b581a4e99ab4f4eed1a3ccff3": {
          "model_module": "@jupyter-widgets/controls",
          "model_name": "HTMLModel",
          "model_module_version": "1.5.0",
          "state": {
            "_dom_classes": [],
            "_model_module": "@jupyter-widgets/controls",
            "_model_module_version": "1.5.0",
            "_model_name": "HTMLModel",
            "_view_count": null,
            "_view_module": "@jupyter-widgets/controls",
            "_view_module_version": "1.5.0",
            "_view_name": "HTMLView",
            "description": "",
            "description_tooltip": null,
            "layout": "IPY_MODEL_2fdd5a30f1524b0da2de6331446f3520",
            "placeholder": "​",
            "style": "IPY_MODEL_4ecf8faa6c7a48baa6cd663fded51c91",
            "value": " 24/24 [00:00&lt;00:00, 113.63it/s]"
          }
        },
        "9ed404cf391f43bbbe4d13b2856bf926": {
          "model_module": "@jupyter-widgets/base",
          "model_name": "LayoutModel",
          "model_module_version": "1.2.0",
          "state": {
            "_model_module": "@jupyter-widgets/base",
            "_model_module_version": "1.2.0",
            "_model_name": "LayoutModel",
            "_view_count": null,
            "_view_module": "@jupyter-widgets/base",
            "_view_module_version": "1.2.0",
            "_view_name": "LayoutView",
            "align_content": null,
            "align_items": null,
            "align_self": null,
            "border": null,
            "bottom": null,
            "display": null,
            "flex": null,
            "flex_flow": null,
            "grid_area": null,
            "grid_auto_columns": null,
            "grid_auto_flow": null,
            "grid_auto_rows": null,
            "grid_column": null,
            "grid_gap": null,
            "grid_row": null,
            "grid_template_areas": null,
            "grid_template_columns": null,
            "grid_template_rows": null,
            "height": null,
            "justify_content": null,
            "justify_items": null,
            "left": null,
            "margin": null,
            "max_height": null,
            "max_width": null,
            "min_height": null,
            "min_width": null,
            "object_fit": null,
            "object_position": null,
            "order": null,
            "overflow": null,
            "overflow_x": null,
            "overflow_y": null,
            "padding": null,
            "right": null,
            "top": null,
            "visibility": null,
            "width": null
          }
        },
        "2fe5ce4e7b6148b88357cf9621de1afe": {
          "model_module": "@jupyter-widgets/base",
          "model_name": "LayoutModel",
          "model_module_version": "1.2.0",
          "state": {
            "_model_module": "@jupyter-widgets/base",
            "_model_module_version": "1.2.0",
            "_model_name": "LayoutModel",
            "_view_count": null,
            "_view_module": "@jupyter-widgets/base",
            "_view_module_version": "1.2.0",
            "_view_name": "LayoutView",
            "align_content": null,
            "align_items": null,
            "align_self": null,
            "border": null,
            "bottom": null,
            "display": null,
            "flex": null,
            "flex_flow": null,
            "grid_area": null,
            "grid_auto_columns": null,
            "grid_auto_flow": null,
            "grid_auto_rows": null,
            "grid_column": null,
            "grid_gap": null,
            "grid_row": null,
            "grid_template_areas": null,
            "grid_template_columns": null,
            "grid_template_rows": null,
            "height": null,
            "justify_content": null,
            "justify_items": null,
            "left": null,
            "margin": null,
            "max_height": null,
            "max_width": null,
            "min_height": null,
            "min_width": null,
            "object_fit": null,
            "object_position": null,
            "order": null,
            "overflow": null,
            "overflow_x": null,
            "overflow_y": null,
            "padding": null,
            "right": null,
            "top": null,
            "visibility": null,
            "width": null
          }
        },
        "728437530b4840bea8d24ba43e499a53": {
          "model_module": "@jupyter-widgets/controls",
          "model_name": "DescriptionStyleModel",
          "model_module_version": "1.5.0",
          "state": {
            "_model_module": "@jupyter-widgets/controls",
            "_model_module_version": "1.5.0",
            "_model_name": "DescriptionStyleModel",
            "_view_count": null,
            "_view_module": "@jupyter-widgets/base",
            "_view_module_version": "1.2.0",
            "_view_name": "StyleView",
            "description_width": ""
          }
        },
        "a9bd8bef0511433bace0b3fa9474ebe1": {
          "model_module": "@jupyter-widgets/base",
          "model_name": "LayoutModel",
          "model_module_version": "1.2.0",
          "state": {
            "_model_module": "@jupyter-widgets/base",
            "_model_module_version": "1.2.0",
            "_model_name": "LayoutModel",
            "_view_count": null,
            "_view_module": "@jupyter-widgets/base",
            "_view_module_version": "1.2.0",
            "_view_name": "LayoutView",
            "align_content": null,
            "align_items": null,
            "align_self": null,
            "border": null,
            "bottom": null,
            "display": null,
            "flex": null,
            "flex_flow": null,
            "grid_area": null,
            "grid_auto_columns": null,
            "grid_auto_flow": null,
            "grid_auto_rows": null,
            "grid_column": null,
            "grid_gap": null,
            "grid_row": null,
            "grid_template_areas": null,
            "grid_template_columns": null,
            "grid_template_rows": null,
            "height": null,
            "justify_content": null,
            "justify_items": null,
            "left": null,
            "margin": null,
            "max_height": null,
            "max_width": null,
            "min_height": null,
            "min_width": null,
            "object_fit": null,
            "object_position": null,
            "order": null,
            "overflow": null,
            "overflow_x": null,
            "overflow_y": null,
            "padding": null,
            "right": null,
            "top": null,
            "visibility": null,
            "width": null
          }
        },
        "3373b4d6fcb6485497e8c79c99386ac6": {
          "model_module": "@jupyter-widgets/controls",
          "model_name": "ProgressStyleModel",
          "model_module_version": "1.5.0",
          "state": {
            "_model_module": "@jupyter-widgets/controls",
            "_model_module_version": "1.5.0",
            "_model_name": "ProgressStyleModel",
            "_view_count": null,
            "_view_module": "@jupyter-widgets/base",
            "_view_module_version": "1.2.0",
            "_view_name": "StyleView",
            "bar_color": null,
            "description_width": ""
          }
        },
        "2fdd5a30f1524b0da2de6331446f3520": {
          "model_module": "@jupyter-widgets/base",
          "model_name": "LayoutModel",
          "model_module_version": "1.2.0",
          "state": {
            "_model_module": "@jupyter-widgets/base",
            "_model_module_version": "1.2.0",
            "_model_name": "LayoutModel",
            "_view_count": null,
            "_view_module": "@jupyter-widgets/base",
            "_view_module_version": "1.2.0",
            "_view_name": "LayoutView",
            "align_content": null,
            "align_items": null,
            "align_self": null,
            "border": null,
            "bottom": null,
            "display": null,
            "flex": null,
            "flex_flow": null,
            "grid_area": null,
            "grid_auto_columns": null,
            "grid_auto_flow": null,
            "grid_auto_rows": null,
            "grid_column": null,
            "grid_gap": null,
            "grid_row": null,
            "grid_template_areas": null,
            "grid_template_columns": null,
            "grid_template_rows": null,
            "height": null,
            "justify_content": null,
            "justify_items": null,
            "left": null,
            "margin": null,
            "max_height": null,
            "max_width": null,
            "min_height": null,
            "min_width": null,
            "object_fit": null,
            "object_position": null,
            "order": null,
            "overflow": null,
            "overflow_x": null,
            "overflow_y": null,
            "padding": null,
            "right": null,
            "top": null,
            "visibility": null,
            "width": null
          }
        },
        "4ecf8faa6c7a48baa6cd663fded51c91": {
          "model_module": "@jupyter-widgets/controls",
          "model_name": "DescriptionStyleModel",
          "model_module_version": "1.5.0",
          "state": {
            "_model_module": "@jupyter-widgets/controls",
            "_model_module_version": "1.5.0",
            "_model_name": "DescriptionStyleModel",
            "_view_count": null,
            "_view_module": "@jupyter-widgets/base",
            "_view_module_version": "1.2.0",
            "_view_name": "StyleView",
            "description_width": ""
          }
        }
      }
    }
  },
  "nbformat": 4,
  "nbformat_minor": 0
}